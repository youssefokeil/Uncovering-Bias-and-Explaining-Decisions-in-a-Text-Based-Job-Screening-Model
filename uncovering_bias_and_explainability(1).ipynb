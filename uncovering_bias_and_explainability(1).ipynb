{
  "metadata": {
    "kernelspec": {
      "name": "python3",
      "display_name": "Python 3"
    },
    "language_info": {
      "name": "python",
      "version": "3.11.11",
      "mimetype": "text/x-python",
      "codemirror_mode": {
        "name": "ipython",
        "version": 3
      },
      "pygments_lexer": "ipython3",
      "nbconvert_exporter": "python",
      "file_extension": ".py"
    },
    "colab": {
      "provenance": [],
      "toc_visible": true,
      "gpuType": "T4"
    },
    "kaggle": {
      "accelerator": "nvidiaTeslaT4",
      "dataSources": [
        {
          "sourceId": 8715385,
          "sourceType": "datasetVersion",
          "datasetId": 5228885
        },
        {
          "sourceId": 12393392,
          "sourceType": "datasetVersion",
          "datasetId": 7815117
        }
      ],
      "dockerImageVersionId": 31040,
      "isInternetEnabled": true,
      "language": "python",
      "sourceType": "notebook",
      "isGpuEnabled": true
    },
    "accelerator": "GPU"
  },
  "nbformat_minor": 0,
  "nbformat": 4,
  "cells": [
    {
      "cell_type": "markdown",
      "source": [
        "## Dataset Analysis & Preparation"
      ],
      "metadata": {
        "id": "_xkrxJvtmCCR"
      }
    },
    {
      "cell_type": "markdown",
      "source": [
        "Let's start with the following points:\n",
        "\n",
        "- Download and examine the attached dataset (mentioned in the document)\n",
        "- Understand the structure: labels (hire/not hire), and any demographic indicators\n",
        "- Identify how sensitive attributes (gender-indicative names, pronouns) are present in the data\n",
        "- Create the training/test split with intentional representation imbalance"
      ],
      "metadata": {
        "id": "h_1zAGE5pSkg"
      }
    },
    {
      "cell_type": "markdown",
      "source": [
        "## Dataset Download"
      ],
      "metadata": {
        "id": "v_lteGuDreLN"
      }
    },
    {
      "cell_type": "markdown",
      "source": [
        "I'm currently working on `colab`, so I downloaded the dataset and uploaded it to the machine. If ou're working locally you just have to change the `data_path`."
      ],
      "metadata": {
        "id": "2Bw37rlTriaK"
      }
    },
    {
      "cell_type": "markdown",
      "source": [
        "Let's now load all of our data into a pandas dataframe."
      ],
      "metadata": {
        "id": "1m0-RDe6uq0P"
      }
    },
    {
      "cell_type": "code",
      "source": [
        "import os\n",
        "import pandas as pd\n",
        "import numpy as np\n",
        "import torch\n",
        "\n",
        "## changed according to the path of the dataset\n",
        "data_path = './data.csv'\n",
        "\n",
        "full_df = pd.read_csv(data_path)"
      ],
      "metadata": {
        "id": "gRxbhQgkuvXW",
        "trusted": true,
        "execution": {
          "iopub.status.busy": "2025-07-07T17:40:59.981428Z",
          "iopub.execute_input": "2025-07-07T17:40:59.982107Z",
          "iopub.status.idle": "2025-07-07T17:41:04.626891Z",
          "shell.execute_reply.started": "2025-07-07T17:40:59.982082Z",
          "shell.execute_reply": "2025-07-07T17:41:04.626034Z"
        }
      },
      "outputs": [],
      "execution_count": 62
    },
    {
      "cell_type": "code",
      "source": [
        "full_df"
      ],
      "metadata": {
        "id": "mYQGZXFAvY6G",
        "outputId": "3a5bd5e9-3f5f-4585-9db9-a373083e72df",
        "trusted": true,
        "execution": {
          "iopub.status.busy": "2025-07-07T17:41:04.628332Z",
          "iopub.execute_input": "2025-07-07T17:41:04.628956Z",
          "iopub.status.idle": "2025-07-07T17:41:04.655939Z",
          "shell.execute_reply.started": "2025-07-07T17:41:04.628927Z",
          "shell.execute_reply": "2025-07-07T17:41:04.655381Z"
        },
        "colab": {
          "base_uri": "https://localhost:8080/",
          "height": 444
        }
      },
      "outputs": [
        {
          "output_type": "execute_result",
          "data": {
            "text/plain": [
              "      Age  Gender  EducationLevel  ExperienceYears  PreviousCompanies  \\\n",
              "0      26       1               2                0                  3   \n",
              "1      39       1               4               12                  3   \n",
              "2      48       0               2                3                  2   \n",
              "3      34       1               2                5                  2   \n",
              "4      30       0               1                6                  1   \n",
              "...   ...     ...             ...              ...                ...   \n",
              "1495   48       0               2                3                  4   \n",
              "1496   27       1               2               10                  3   \n",
              "1497   24       1               1                1                  2   \n",
              "1498   48       0               2                4                  4   \n",
              "1499   34       1               2               11                  5   \n",
              "\n",
              "      DistanceFromCompany  InterviewScore  SkillScore  PersonalityScore  \\\n",
              "0               26.783828              48          78                91   \n",
              "1               25.862694              35          68                80   \n",
              "2                9.920805              20          67                13   \n",
              "3                6.407751              36          27                70   \n",
              "4               43.105343              23          52                85   \n",
              "...                   ...             ...         ...               ...   \n",
              "1495             9.183783              66           3                80   \n",
              "1496            14.847731              43          97                 7   \n",
              "1497             4.289911              31          91                58   \n",
              "1498            36.299263               9          37                44   \n",
              "1499            12.910472              63          40                26   \n",
              "\n",
              "      RecruitmentStrategy  HiringDecision  \n",
              "0                       1               1  \n",
              "1                       2               1  \n",
              "2                       2               0  \n",
              "3                       3               0  \n",
              "4                       2               0  \n",
              "...                   ...             ...  \n",
              "1495                    3               1  \n",
              "1496                    2               0  \n",
              "1497                    1               1  \n",
              "1498                    2               1  \n",
              "1499                    2               1  \n",
              "\n",
              "[1500 rows x 11 columns]"
            ],
            "text/html": [
              "\n",
              "  <div id=\"df-0ac84975-970a-49f1-8816-0e4265111408\" class=\"colab-df-container\">\n",
              "    <div>\n",
              "<style scoped>\n",
              "    .dataframe tbody tr th:only-of-type {\n",
              "        vertical-align: middle;\n",
              "    }\n",
              "\n",
              "    .dataframe tbody tr th {\n",
              "        vertical-align: top;\n",
              "    }\n",
              "\n",
              "    .dataframe thead th {\n",
              "        text-align: right;\n",
              "    }\n",
              "</style>\n",
              "<table border=\"1\" class=\"dataframe\">\n",
              "  <thead>\n",
              "    <tr style=\"text-align: right;\">\n",
              "      <th></th>\n",
              "      <th>Age</th>\n",
              "      <th>Gender</th>\n",
              "      <th>EducationLevel</th>\n",
              "      <th>ExperienceYears</th>\n",
              "      <th>PreviousCompanies</th>\n",
              "      <th>DistanceFromCompany</th>\n",
              "      <th>InterviewScore</th>\n",
              "      <th>SkillScore</th>\n",
              "      <th>PersonalityScore</th>\n",
              "      <th>RecruitmentStrategy</th>\n",
              "      <th>HiringDecision</th>\n",
              "    </tr>\n",
              "  </thead>\n",
              "  <tbody>\n",
              "    <tr>\n",
              "      <th>0</th>\n",
              "      <td>26</td>\n",
              "      <td>1</td>\n",
              "      <td>2</td>\n",
              "      <td>0</td>\n",
              "      <td>3</td>\n",
              "      <td>26.783828</td>\n",
              "      <td>48</td>\n",
              "      <td>78</td>\n",
              "      <td>91</td>\n",
              "      <td>1</td>\n",
              "      <td>1</td>\n",
              "    </tr>\n",
              "    <tr>\n",
              "      <th>1</th>\n",
              "      <td>39</td>\n",
              "      <td>1</td>\n",
              "      <td>4</td>\n",
              "      <td>12</td>\n",
              "      <td>3</td>\n",
              "      <td>25.862694</td>\n",
              "      <td>35</td>\n",
              "      <td>68</td>\n",
              "      <td>80</td>\n",
              "      <td>2</td>\n",
              "      <td>1</td>\n",
              "    </tr>\n",
              "    <tr>\n",
              "      <th>2</th>\n",
              "      <td>48</td>\n",
              "      <td>0</td>\n",
              "      <td>2</td>\n",
              "      <td>3</td>\n",
              "      <td>2</td>\n",
              "      <td>9.920805</td>\n",
              "      <td>20</td>\n",
              "      <td>67</td>\n",
              "      <td>13</td>\n",
              "      <td>2</td>\n",
              "      <td>0</td>\n",
              "    </tr>\n",
              "    <tr>\n",
              "      <th>3</th>\n",
              "      <td>34</td>\n",
              "      <td>1</td>\n",
              "      <td>2</td>\n",
              "      <td>5</td>\n",
              "      <td>2</td>\n",
              "      <td>6.407751</td>\n",
              "      <td>36</td>\n",
              "      <td>27</td>\n",
              "      <td>70</td>\n",
              "      <td>3</td>\n",
              "      <td>0</td>\n",
              "    </tr>\n",
              "    <tr>\n",
              "      <th>4</th>\n",
              "      <td>30</td>\n",
              "      <td>0</td>\n",
              "      <td>1</td>\n",
              "      <td>6</td>\n",
              "      <td>1</td>\n",
              "      <td>43.105343</td>\n",
              "      <td>23</td>\n",
              "      <td>52</td>\n",
              "      <td>85</td>\n",
              "      <td>2</td>\n",
              "      <td>0</td>\n",
              "    </tr>\n",
              "    <tr>\n",
              "      <th>...</th>\n",
              "      <td>...</td>\n",
              "      <td>...</td>\n",
              "      <td>...</td>\n",
              "      <td>...</td>\n",
              "      <td>...</td>\n",
              "      <td>...</td>\n",
              "      <td>...</td>\n",
              "      <td>...</td>\n",
              "      <td>...</td>\n",
              "      <td>...</td>\n",
              "      <td>...</td>\n",
              "    </tr>\n",
              "    <tr>\n",
              "      <th>1495</th>\n",
              "      <td>48</td>\n",
              "      <td>0</td>\n",
              "      <td>2</td>\n",
              "      <td>3</td>\n",
              "      <td>4</td>\n",
              "      <td>9.183783</td>\n",
              "      <td>66</td>\n",
              "      <td>3</td>\n",
              "      <td>80</td>\n",
              "      <td>3</td>\n",
              "      <td>1</td>\n",
              "    </tr>\n",
              "    <tr>\n",
              "      <th>1496</th>\n",
              "      <td>27</td>\n",
              "      <td>1</td>\n",
              "      <td>2</td>\n",
              "      <td>10</td>\n",
              "      <td>3</td>\n",
              "      <td>14.847731</td>\n",
              "      <td>43</td>\n",
              "      <td>97</td>\n",
              "      <td>7</td>\n",
              "      <td>2</td>\n",
              "      <td>0</td>\n",
              "    </tr>\n",
              "    <tr>\n",
              "      <th>1497</th>\n",
              "      <td>24</td>\n",
              "      <td>1</td>\n",
              "      <td>1</td>\n",
              "      <td>1</td>\n",
              "      <td>2</td>\n",
              "      <td>4.289911</td>\n",
              "      <td>31</td>\n",
              "      <td>91</td>\n",
              "      <td>58</td>\n",
              "      <td>1</td>\n",
              "      <td>1</td>\n",
              "    </tr>\n",
              "    <tr>\n",
              "      <th>1498</th>\n",
              "      <td>48</td>\n",
              "      <td>0</td>\n",
              "      <td>2</td>\n",
              "      <td>4</td>\n",
              "      <td>4</td>\n",
              "      <td>36.299263</td>\n",
              "      <td>9</td>\n",
              "      <td>37</td>\n",
              "      <td>44</td>\n",
              "      <td>2</td>\n",
              "      <td>1</td>\n",
              "    </tr>\n",
              "    <tr>\n",
              "      <th>1499</th>\n",
              "      <td>34</td>\n",
              "      <td>1</td>\n",
              "      <td>2</td>\n",
              "      <td>11</td>\n",
              "      <td>5</td>\n",
              "      <td>12.910472</td>\n",
              "      <td>63</td>\n",
              "      <td>40</td>\n",
              "      <td>26</td>\n",
              "      <td>2</td>\n",
              "      <td>1</td>\n",
              "    </tr>\n",
              "  </tbody>\n",
              "</table>\n",
              "<p>1500 rows × 11 columns</p>\n",
              "</div>\n",
              "    <div class=\"colab-df-buttons\">\n",
              "\n",
              "  <div class=\"colab-df-container\">\n",
              "    <button class=\"colab-df-convert\" onclick=\"convertToInteractive('df-0ac84975-970a-49f1-8816-0e4265111408')\"\n",
              "            title=\"Convert this dataframe to an interactive table.\"\n",
              "            style=\"display:none;\">\n",
              "\n",
              "  <svg xmlns=\"http://www.w3.org/2000/svg\" height=\"24px\" viewBox=\"0 -960 960 960\">\n",
              "    <path d=\"M120-120v-720h720v720H120Zm60-500h600v-160H180v160Zm220 220h160v-160H400v160Zm0 220h160v-160H400v160ZM180-400h160v-160H180v160Zm440 0h160v-160H620v160ZM180-180h160v-160H180v160Zm440 0h160v-160H620v160Z\"/>\n",
              "  </svg>\n",
              "    </button>\n",
              "\n",
              "  <style>\n",
              "    .colab-df-container {\n",
              "      display:flex;\n",
              "      gap: 12px;\n",
              "    }\n",
              "\n",
              "    .colab-df-convert {\n",
              "      background-color: #E8F0FE;\n",
              "      border: none;\n",
              "      border-radius: 50%;\n",
              "      cursor: pointer;\n",
              "      display: none;\n",
              "      fill: #1967D2;\n",
              "      height: 32px;\n",
              "      padding: 0 0 0 0;\n",
              "      width: 32px;\n",
              "    }\n",
              "\n",
              "    .colab-df-convert:hover {\n",
              "      background-color: #E2EBFA;\n",
              "      box-shadow: 0px 1px 2px rgba(60, 64, 67, 0.3), 0px 1px 3px 1px rgba(60, 64, 67, 0.15);\n",
              "      fill: #174EA6;\n",
              "    }\n",
              "\n",
              "    .colab-df-buttons div {\n",
              "      margin-bottom: 4px;\n",
              "    }\n",
              "\n",
              "    [theme=dark] .colab-df-convert {\n",
              "      background-color: #3B4455;\n",
              "      fill: #D2E3FC;\n",
              "    }\n",
              "\n",
              "    [theme=dark] .colab-df-convert:hover {\n",
              "      background-color: #434B5C;\n",
              "      box-shadow: 0px 1px 3px 1px rgba(0, 0, 0, 0.15);\n",
              "      filter: drop-shadow(0px 1px 2px rgba(0, 0, 0, 0.3));\n",
              "      fill: #FFFFFF;\n",
              "    }\n",
              "  </style>\n",
              "\n",
              "    <script>\n",
              "      const buttonEl =\n",
              "        document.querySelector('#df-0ac84975-970a-49f1-8816-0e4265111408 button.colab-df-convert');\n",
              "      buttonEl.style.display =\n",
              "        google.colab.kernel.accessAllowed ? 'block' : 'none';\n",
              "\n",
              "      async function convertToInteractive(key) {\n",
              "        const element = document.querySelector('#df-0ac84975-970a-49f1-8816-0e4265111408');\n",
              "        const dataTable =\n",
              "          await google.colab.kernel.invokeFunction('convertToInteractive',\n",
              "                                                    [key], {});\n",
              "        if (!dataTable) return;\n",
              "\n",
              "        const docLinkHtml = 'Like what you see? Visit the ' +\n",
              "          '<a target=\"_blank\" href=https://colab.research.google.com/notebooks/data_table.ipynb>data table notebook</a>'\n",
              "          + ' to learn more about interactive tables.';\n",
              "        element.innerHTML = '';\n",
              "        dataTable['output_type'] = 'display_data';\n",
              "        await google.colab.output.renderOutput(dataTable, element);\n",
              "        const docLink = document.createElement('div');\n",
              "        docLink.innerHTML = docLinkHtml;\n",
              "        element.appendChild(docLink);\n",
              "      }\n",
              "    </script>\n",
              "  </div>\n",
              "\n",
              "\n",
              "    <div id=\"df-7b58edb4-5183-44c6-a814-c07bb3028153\">\n",
              "      <button class=\"colab-df-quickchart\" onclick=\"quickchart('df-7b58edb4-5183-44c6-a814-c07bb3028153')\"\n",
              "                title=\"Suggest charts\"\n",
              "                style=\"display:none;\">\n",
              "\n",
              "<svg xmlns=\"http://www.w3.org/2000/svg\" height=\"24px\"viewBox=\"0 0 24 24\"\n",
              "     width=\"24px\">\n",
              "    <g>\n",
              "        <path d=\"M19 3H5c-1.1 0-2 .9-2 2v14c0 1.1.9 2 2 2h14c1.1 0 2-.9 2-2V5c0-1.1-.9-2-2-2zM9 17H7v-7h2v7zm4 0h-2V7h2v10zm4 0h-2v-4h2v4z\"/>\n",
              "    </g>\n",
              "</svg>\n",
              "      </button>\n",
              "\n",
              "<style>\n",
              "  .colab-df-quickchart {\n",
              "      --bg-color: #E8F0FE;\n",
              "      --fill-color: #1967D2;\n",
              "      --hover-bg-color: #E2EBFA;\n",
              "      --hover-fill-color: #174EA6;\n",
              "      --disabled-fill-color: #AAA;\n",
              "      --disabled-bg-color: #DDD;\n",
              "  }\n",
              "\n",
              "  [theme=dark] .colab-df-quickchart {\n",
              "      --bg-color: #3B4455;\n",
              "      --fill-color: #D2E3FC;\n",
              "      --hover-bg-color: #434B5C;\n",
              "      --hover-fill-color: #FFFFFF;\n",
              "      --disabled-bg-color: #3B4455;\n",
              "      --disabled-fill-color: #666;\n",
              "  }\n",
              "\n",
              "  .colab-df-quickchart {\n",
              "    background-color: var(--bg-color);\n",
              "    border: none;\n",
              "    border-radius: 50%;\n",
              "    cursor: pointer;\n",
              "    display: none;\n",
              "    fill: var(--fill-color);\n",
              "    height: 32px;\n",
              "    padding: 0;\n",
              "    width: 32px;\n",
              "  }\n",
              "\n",
              "  .colab-df-quickchart:hover {\n",
              "    background-color: var(--hover-bg-color);\n",
              "    box-shadow: 0 1px 2px rgba(60, 64, 67, 0.3), 0 1px 3px 1px rgba(60, 64, 67, 0.15);\n",
              "    fill: var(--button-hover-fill-color);\n",
              "  }\n",
              "\n",
              "  .colab-df-quickchart-complete:disabled,\n",
              "  .colab-df-quickchart-complete:disabled:hover {\n",
              "    background-color: var(--disabled-bg-color);\n",
              "    fill: var(--disabled-fill-color);\n",
              "    box-shadow: none;\n",
              "  }\n",
              "\n",
              "  .colab-df-spinner {\n",
              "    border: 2px solid var(--fill-color);\n",
              "    border-color: transparent;\n",
              "    border-bottom-color: var(--fill-color);\n",
              "    animation:\n",
              "      spin 1s steps(1) infinite;\n",
              "  }\n",
              "\n",
              "  @keyframes spin {\n",
              "    0% {\n",
              "      border-color: transparent;\n",
              "      border-bottom-color: var(--fill-color);\n",
              "      border-left-color: var(--fill-color);\n",
              "    }\n",
              "    20% {\n",
              "      border-color: transparent;\n",
              "      border-left-color: var(--fill-color);\n",
              "      border-top-color: var(--fill-color);\n",
              "    }\n",
              "    30% {\n",
              "      border-color: transparent;\n",
              "      border-left-color: var(--fill-color);\n",
              "      border-top-color: var(--fill-color);\n",
              "      border-right-color: var(--fill-color);\n",
              "    }\n",
              "    40% {\n",
              "      border-color: transparent;\n",
              "      border-right-color: var(--fill-color);\n",
              "      border-top-color: var(--fill-color);\n",
              "    }\n",
              "    60% {\n",
              "      border-color: transparent;\n",
              "      border-right-color: var(--fill-color);\n",
              "    }\n",
              "    80% {\n",
              "      border-color: transparent;\n",
              "      border-right-color: var(--fill-color);\n",
              "      border-bottom-color: var(--fill-color);\n",
              "    }\n",
              "    90% {\n",
              "      border-color: transparent;\n",
              "      border-bottom-color: var(--fill-color);\n",
              "    }\n",
              "  }\n",
              "</style>\n",
              "\n",
              "      <script>\n",
              "        async function quickchart(key) {\n",
              "          const quickchartButtonEl =\n",
              "            document.querySelector('#' + key + ' button');\n",
              "          quickchartButtonEl.disabled = true;  // To prevent multiple clicks.\n",
              "          quickchartButtonEl.classList.add('colab-df-spinner');\n",
              "          try {\n",
              "            const charts = await google.colab.kernel.invokeFunction(\n",
              "                'suggestCharts', [key], {});\n",
              "          } catch (error) {\n",
              "            console.error('Error during call to suggestCharts:', error);\n",
              "          }\n",
              "          quickchartButtonEl.classList.remove('colab-df-spinner');\n",
              "          quickchartButtonEl.classList.add('colab-df-quickchart-complete');\n",
              "        }\n",
              "        (() => {\n",
              "          let quickchartButtonEl =\n",
              "            document.querySelector('#df-7b58edb4-5183-44c6-a814-c07bb3028153 button');\n",
              "          quickchartButtonEl.style.display =\n",
              "            google.colab.kernel.accessAllowed ? 'block' : 'none';\n",
              "        })();\n",
              "      </script>\n",
              "    </div>\n",
              "\n",
              "  <div id=\"id_06f03819-1f43-4658-a2a9-0971def8db3d\">\n",
              "    <style>\n",
              "      .colab-df-generate {\n",
              "        background-color: #E8F0FE;\n",
              "        border: none;\n",
              "        border-radius: 50%;\n",
              "        cursor: pointer;\n",
              "        display: none;\n",
              "        fill: #1967D2;\n",
              "        height: 32px;\n",
              "        padding: 0 0 0 0;\n",
              "        width: 32px;\n",
              "      }\n",
              "\n",
              "      .colab-df-generate:hover {\n",
              "        background-color: #E2EBFA;\n",
              "        box-shadow: 0px 1px 2px rgba(60, 64, 67, 0.3), 0px 1px 3px 1px rgba(60, 64, 67, 0.15);\n",
              "        fill: #174EA6;\n",
              "      }\n",
              "\n",
              "      [theme=dark] .colab-df-generate {\n",
              "        background-color: #3B4455;\n",
              "        fill: #D2E3FC;\n",
              "      }\n",
              "\n",
              "      [theme=dark] .colab-df-generate:hover {\n",
              "        background-color: #434B5C;\n",
              "        box-shadow: 0px 1px 3px 1px rgba(0, 0, 0, 0.15);\n",
              "        filter: drop-shadow(0px 1px 2px rgba(0, 0, 0, 0.3));\n",
              "        fill: #FFFFFF;\n",
              "      }\n",
              "    </style>\n",
              "    <button class=\"colab-df-generate\" onclick=\"generateWithVariable('full_df')\"\n",
              "            title=\"Generate code using this dataframe.\"\n",
              "            style=\"display:none;\">\n",
              "\n",
              "  <svg xmlns=\"http://www.w3.org/2000/svg\" height=\"24px\"viewBox=\"0 0 24 24\"\n",
              "       width=\"24px\">\n",
              "    <path d=\"M7,19H8.4L18.45,9,17,7.55,7,17.6ZM5,21V16.75L18.45,3.32a2,2,0,0,1,2.83,0l1.4,1.43a1.91,1.91,0,0,1,.58,1.4,1.91,1.91,0,0,1-.58,1.4L9.25,21ZM18.45,9,17,7.55Zm-12,3A5.31,5.31,0,0,0,4.9,8.1,5.31,5.31,0,0,0,1,6.5,5.31,5.31,0,0,0,4.9,4.9,5.31,5.31,0,0,0,6.5,1,5.31,5.31,0,0,0,8.1,4.9,5.31,5.31,0,0,0,12,6.5,5.46,5.46,0,0,0,6.5,12Z\"/>\n",
              "  </svg>\n",
              "    </button>\n",
              "    <script>\n",
              "      (() => {\n",
              "      const buttonEl =\n",
              "        document.querySelector('#id_06f03819-1f43-4658-a2a9-0971def8db3d button.colab-df-generate');\n",
              "      buttonEl.style.display =\n",
              "        google.colab.kernel.accessAllowed ? 'block' : 'none';\n",
              "\n",
              "      buttonEl.onclick = () => {\n",
              "        google.colab.notebook.generateWithVariable('full_df');\n",
              "      }\n",
              "      })();\n",
              "    </script>\n",
              "  </div>\n",
              "\n",
              "    </div>\n",
              "  </div>\n"
            ],
            "application/vnd.google.colaboratory.intrinsic+json": {
              "type": "dataframe",
              "variable_name": "full_df",
              "summary": "{\n  \"name\": \"full_df\",\n  \"rows\": 1500,\n  \"fields\": [\n    {\n      \"column\": \"Age\",\n      \"properties\": {\n        \"dtype\": \"number\",\n        \"std\": 9,\n        \"min\": 20,\n        \"max\": 50,\n        \"num_unique_values\": 31,\n        \"samples\": [\n          28,\n          31,\n          50\n        ],\n        \"semantic_type\": \"\",\n        \"description\": \"\"\n      }\n    },\n    {\n      \"column\": \"Gender\",\n      \"properties\": {\n        \"dtype\": \"number\",\n        \"std\": 0,\n        \"min\": 0,\n        \"max\": 1,\n        \"num_unique_values\": 2,\n        \"samples\": [\n          0,\n          1\n        ],\n        \"semantic_type\": \"\",\n        \"description\": \"\"\n      }\n    },\n    {\n      \"column\": \"EducationLevel\",\n      \"properties\": {\n        \"dtype\": \"number\",\n        \"std\": 0,\n        \"min\": 1,\n        \"max\": 4,\n        \"num_unique_values\": 4,\n        \"samples\": [\n          4,\n          3\n        ],\n        \"semantic_type\": \"\",\n        \"description\": \"\"\n      }\n    },\n    {\n      \"column\": \"ExperienceYears\",\n      \"properties\": {\n        \"dtype\": \"number\",\n        \"std\": 4,\n        \"min\": 0,\n        \"max\": 15,\n        \"num_unique_values\": 16,\n        \"samples\": [\n          0,\n          12\n        ],\n        \"semantic_type\": \"\",\n        \"description\": \"\"\n      }\n    },\n    {\n      \"column\": \"PreviousCompanies\",\n      \"properties\": {\n        \"dtype\": \"number\",\n        \"std\": 1,\n        \"min\": 1,\n        \"max\": 5,\n        \"num_unique_values\": 5,\n        \"samples\": [\n          2,\n          5\n        ],\n        \"semantic_type\": \"\",\n        \"description\": \"\"\n      }\n    },\n    {\n      \"column\": \"DistanceFromCompany\",\n      \"properties\": {\n        \"dtype\": \"number\",\n        \"std\": 14.567151397745041,\n        \"min\": 1.0313758314228083,\n        \"max\": 50.99246222432001,\n        \"num_unique_values\": 1500,\n        \"samples\": [\n          30.16380985695483,\n          46.30095355221816\n        ],\n        \"semantic_type\": \"\",\n        \"description\": \"\"\n      }\n    },\n    {\n      \"column\": \"InterviewScore\",\n      \"properties\": {\n        \"dtype\": \"number\",\n        \"std\": 28,\n        \"min\": 0,\n        \"max\": 100,\n        \"num_unique_values\": 101,\n        \"samples\": [\n          49,\n          81\n        ],\n        \"semantic_type\": \"\",\n        \"description\": \"\"\n      }\n    },\n    {\n      \"column\": \"SkillScore\",\n      \"properties\": {\n        \"dtype\": \"number\",\n        \"std\": 29,\n        \"min\": 0,\n        \"max\": 100,\n        \"num_unique_values\": 101,\n        \"samples\": [\n          1,\n          76\n        ],\n        \"semantic_type\": \"\",\n        \"description\": \"\"\n      }\n    },\n    {\n      \"column\": \"PersonalityScore\",\n      \"properties\": {\n        \"dtype\": \"number\",\n        \"std\": 29,\n        \"min\": 0,\n        \"max\": 100,\n        \"num_unique_values\": 101,\n        \"samples\": [\n          75,\n          46\n        ],\n        \"semantic_type\": \"\",\n        \"description\": \"\"\n      }\n    },\n    {\n      \"column\": \"RecruitmentStrategy\",\n      \"properties\": {\n        \"dtype\": \"number\",\n        \"std\": 0,\n        \"min\": 1,\n        \"max\": 3,\n        \"num_unique_values\": 3,\n        \"samples\": [\n          1,\n          2\n        ],\n        \"semantic_type\": \"\",\n        \"description\": \"\"\n      }\n    },\n    {\n      \"column\": \"HiringDecision\",\n      \"properties\": {\n        \"dtype\": \"number\",\n        \"std\": 0,\n        \"min\": 0,\n        \"max\": 1,\n        \"num_unique_values\": 2,\n        \"samples\": [\n          0,\n          1\n        ],\n        \"semantic_type\": \"\",\n        \"description\": \"\"\n      }\n    }\n  ]\n}"
            }
          },
          "metadata": {},
          "execution_count": 63
        }
      ],
      "execution_count": 63
    },
    {
      "cell_type": "markdown",
      "source": [
        "# Generate Resume Text\n",
        "To simulate a real-world screening model, we're expected to generate a synthetic `Resume_Text` field from the available features. For that we'll use template with variiations that shows the biases that can arise as Gender is explicitly mentioned and it is feature rich.\n",
        "\n",
        "> We can use LLMs especially free ones like the ones provided inb the huggingface `transformers` library, but we'll use a template.\n",
        "\n",
        "> NB: for gender, I assumed that 0--> male, 1 --> female, following this https://www.kaggle.com/datasets/rabieelkharoua/predicting-hiring-decisions-in-recruitment-data"
      ],
      "metadata": {
        "id": "kqLW4XTvzESP"
      }
    },
    {
      "cell_type": "code",
      "source": [
        "import random\n",
        "\n",
        "def generate_resume_text_variations(row):\n",
        "    \"\"\"\n",
        "    Generate variations of the resume text to add diversity\n",
        "    \"\"\"\n",
        "    age = row['Age']\n",
        "    gender = 'male' if row['Gender']==0 else 'female'\n",
        "    education = row['EducationLevel']\n",
        "    experience = row['ExperienceYears']\n",
        "    prev_companies = row['PreviousCompanies']\n",
        "    interview_score = row['InterviewScore']\n",
        "    skill_score = row['SkillScore']\n",
        "    personality_score = row['PersonalityScore']\n",
        "    strategy = row['RecruitmentStrategy']\n",
        "\n",
        "    # Different sentence structures for variety\n",
        "    templates = [\n",
        "        f\"I am a {gender} candidate, {age} years old, with a {education} degree and {experience} years of experience across {prev_companies} companies. I scored {interview_score} in the interview, with a skill score of {skill_score} and personality score of {personality_score}. I applied through {strategy}.\",\n",
        "\n",
        "        f\"As a {gender} professional aged {age}, I hold a {education} degree and bring {experience} years of experience from {prev_companies} different companies. My interview performance was {interview_score}, complemented by a skill score of {skill_score} and personality score of {personality_score}. I discovered this opportunity through {strategy}.\",\n",
        "\n",
        "        f\"I am a {age}-year-old {gender} candidate with a {education} degree. My professional background includes {experience} years of experience across {prev_companies} organizations. I achieved an interview score of {interview_score}, with technical skills rated at {skill_score} and personality assessment at {personality_score}. My application came through {strategy}.\",\n",
        "\n",
        "        f\"Profile: {gender} candidate, age {age}, educational background {education}. Professional experience spans {experience} years across {prev_companies} companies. Assessment results: interview score {interview_score}, skill evaluation {skill_score}, personality rating {personality_score}. Application source: {strategy}.\",\n",
        "\n",
        "        f\"I represent a {gender} applicant of {age} years with {education} education. My career encompasses {experience} years of experience gained across {prev_companies} different organizations. Performance metrics include interview score of {interview_score}, skill assessment of {skill_score}, and personality evaluation of {personality_score}. I found this position through {strategy}.\"\n",
        "    ]\n",
        "\n",
        "    return random.choice(templates)"
      ],
      "metadata": {
        "id": "Pj-vtIOh8JUq",
        "trusted": true,
        "execution": {
          "iopub.status.busy": "2025-07-07T17:41:04.656522Z",
          "iopub.execute_input": "2025-07-07T17:41:04.656731Z",
          "iopub.status.idle": "2025-07-07T17:41:04.662722Z",
          "shell.execute_reply.started": "2025-07-07T17:41:04.656715Z",
          "shell.execute_reply": "2025-07-07T17:41:04.662050Z"
        }
      },
      "outputs": [],
      "execution_count": 64
    },
    {
      "cell_type": "code",
      "source": [
        "def add_resume_text_column(df, use_variations=True):\n",
        "    \"\"\"\n",
        "    Add Resume_Text column to the dataframe\n",
        "\n",
        "    Parameters:\n",
        "    df: pandas DataFrame with the required columns\n",
        "    use_variations: boolean, if True uses varied templates, if False uses standard format\n",
        "    \"\"\"\n",
        "    df = df.copy()\n",
        "\n",
        "    df['Resume_Text'] = df.apply(generate_resume_text_variations, axis=1)\n",
        "\n",
        "    return df"
      ],
      "metadata": {
        "id": "PB_m8vuR8oiq",
        "trusted": true,
        "execution": {
          "iopub.status.busy": "2025-07-07T17:41:04.664633Z",
          "iopub.execute_input": "2025-07-07T17:41:04.665172Z",
          "iopub.status.idle": "2025-07-07T17:41:04.677306Z",
          "shell.execute_reply.started": "2025-07-07T17:41:04.665152Z",
          "shell.execute_reply": "2025-07-07T17:41:04.676598Z"
        }
      },
      "outputs": [],
      "execution_count": 65
    },
    {
      "cell_type": "markdown",
      "source": [
        "Let's now see how our generated text looks like after applying it to our dataframe."
      ],
      "metadata": {
        "id": "D2u8m87O9tjt"
      }
    },
    {
      "cell_type": "code",
      "source": [
        "with_text_df=add_resume_text_column(full_df)\n",
        "with_text_df['Resume_Text']"
      ],
      "metadata": {
        "id": "-IxAoKpV9meW",
        "outputId": "1531b914-1ece-4d81-9c49-a7a6d4b7ca17",
        "trusted": true,
        "execution": {
          "iopub.status.busy": "2025-07-07T17:41:04.678061Z",
          "iopub.execute_input": "2025-07-07T17:41:04.678236Z",
          "iopub.status.idle": "2025-07-07T17:41:04.737791Z",
          "shell.execute_reply.started": "2025-07-07T17:41:04.678214Z",
          "shell.execute_reply": "2025-07-07T17:41:04.737083Z"
        },
        "colab": {
          "base_uri": "https://localhost:8080/",
          "height": 458
        }
      },
      "outputs": [
        {
          "output_type": "execute_result",
          "data": {
            "text/plain": [
              "0       As a female professional aged 26.0, I hold a 2...\n",
              "1       As a female professional aged 39.0, I hold a 4...\n",
              "2       I am a 48.0-year-old male candidate with a 2.0...\n",
              "3       I am a 34.0-year-old female candidate with a 2...\n",
              "4       I am a 30.0-year-old male candidate with a 1.0...\n",
              "                              ...                        \n",
              "1495    Profile: male candidate, age 48.0, educational...\n",
              "1496    Profile: female candidate, age 27.0, education...\n",
              "1497    I am a 24.0-year-old female candidate with a 1...\n",
              "1498    I am a 48.0-year-old male candidate with a 2.0...\n",
              "1499    Profile: female candidate, age 34.0, education...\n",
              "Name: Resume_Text, Length: 1500, dtype: object"
            ],
            "text/html": [
              "<div>\n",
              "<style scoped>\n",
              "    .dataframe tbody tr th:only-of-type {\n",
              "        vertical-align: middle;\n",
              "    }\n",
              "\n",
              "    .dataframe tbody tr th {\n",
              "        vertical-align: top;\n",
              "    }\n",
              "\n",
              "    .dataframe thead th {\n",
              "        text-align: right;\n",
              "    }\n",
              "</style>\n",
              "<table border=\"1\" class=\"dataframe\">\n",
              "  <thead>\n",
              "    <tr style=\"text-align: right;\">\n",
              "      <th></th>\n",
              "      <th>Resume_Text</th>\n",
              "    </tr>\n",
              "  </thead>\n",
              "  <tbody>\n",
              "    <tr>\n",
              "      <th>0</th>\n",
              "      <td>As a female professional aged 26.0, I hold a 2...</td>\n",
              "    </tr>\n",
              "    <tr>\n",
              "      <th>1</th>\n",
              "      <td>As a female professional aged 39.0, I hold a 4...</td>\n",
              "    </tr>\n",
              "    <tr>\n",
              "      <th>2</th>\n",
              "      <td>I am a 48.0-year-old male candidate with a 2.0...</td>\n",
              "    </tr>\n",
              "    <tr>\n",
              "      <th>3</th>\n",
              "      <td>I am a 34.0-year-old female candidate with a 2...</td>\n",
              "    </tr>\n",
              "    <tr>\n",
              "      <th>4</th>\n",
              "      <td>I am a 30.0-year-old male candidate with a 1.0...</td>\n",
              "    </tr>\n",
              "    <tr>\n",
              "      <th>...</th>\n",
              "      <td>...</td>\n",
              "    </tr>\n",
              "    <tr>\n",
              "      <th>1495</th>\n",
              "      <td>Profile: male candidate, age 48.0, educational...</td>\n",
              "    </tr>\n",
              "    <tr>\n",
              "      <th>1496</th>\n",
              "      <td>Profile: female candidate, age 27.0, education...</td>\n",
              "    </tr>\n",
              "    <tr>\n",
              "      <th>1497</th>\n",
              "      <td>I am a 24.0-year-old female candidate with a 1...</td>\n",
              "    </tr>\n",
              "    <tr>\n",
              "      <th>1498</th>\n",
              "      <td>I am a 48.0-year-old male candidate with a 2.0...</td>\n",
              "    </tr>\n",
              "    <tr>\n",
              "      <th>1499</th>\n",
              "      <td>Profile: female candidate, age 34.0, education...</td>\n",
              "    </tr>\n",
              "  </tbody>\n",
              "</table>\n",
              "<p>1500 rows × 1 columns</p>\n",
              "</div><br><label><b>dtype:</b> object</label>"
            ]
          },
          "metadata": {},
          "execution_count": 66
        }
      ],
      "execution_count": 66
    },
    {
      "cell_type": "markdown",
      "source": [
        "Now we started with the generated text, let's try to make a BERT classification.\n",
        "> Maybe as a next step, we could've used a transformer model to generate the text."
      ],
      "metadata": {
        "id": "BsMslz-TAIAN"
      }
    },
    {
      "cell_type": "markdown",
      "source": [
        "# Data Splitting"
      ],
      "metadata": {
        "id": "fx0tla6UA8a1"
      }
    },
    {
      "cell_type": "markdown",
      "source": [
        "Before initializing our model, let's split training and testing with representation imbalance.\n",
        "> Remember that 0 in the Gender column, stands for male. While 1 is for female."
      ],
      "metadata": {
        "id": "UslDNLmeCDtz"
      }
    },
    {
      "cell_type": "markdown",
      "source": [
        "Let's first see how many males are there"
      ],
      "metadata": {
        "id": "yz1-UQsqGz5f"
      }
    },
    {
      "cell_type": "markdown",
      "source": [
        "## Representation Imbalance\n",
        "\n",
        "Split across training and test sets with representation imbalance (e.g., more male resumes in training). This will be very important to be used in bias detection that can happen in real life."
      ],
      "metadata": {
        "id": "txakaivwNuAm"
      }
    },
    {
      "cell_type": "code",
      "source": [
        "with_text_df[with_text_df['Gender']==0].count()"
      ],
      "metadata": {
        "id": "z670YfZ6GznQ",
        "outputId": "dcad463b-270d-4543-8ea0-66b43331dcc6",
        "trusted": true,
        "execution": {
          "iopub.status.busy": "2025-07-07T17:41:04.738549Z",
          "iopub.execute_input": "2025-07-07T17:41:04.738718Z",
          "iopub.status.idle": "2025-07-07T17:41:04.745842Z",
          "shell.execute_reply.started": "2025-07-07T17:41:04.738703Z",
          "shell.execute_reply": "2025-07-07T17:41:04.745268Z"
        },
        "colab": {
          "base_uri": "https://localhost:8080/",
          "height": 460
        }
      },
      "outputs": [
        {
          "output_type": "execute_result",
          "data": {
            "text/plain": [
              "Age                    762\n",
              "Gender                 762\n",
              "EducationLevel         762\n",
              "ExperienceYears        762\n",
              "PreviousCompanies      762\n",
              "DistanceFromCompany    762\n",
              "InterviewScore         762\n",
              "SkillScore             762\n",
              "PersonalityScore       762\n",
              "RecruitmentStrategy    762\n",
              "HiringDecision         762\n",
              "Resume_Text            762\n",
              "dtype: int64"
            ],
            "text/html": [
              "<div>\n",
              "<style scoped>\n",
              "    .dataframe tbody tr th:only-of-type {\n",
              "        vertical-align: middle;\n",
              "    }\n",
              "\n",
              "    .dataframe tbody tr th {\n",
              "        vertical-align: top;\n",
              "    }\n",
              "\n",
              "    .dataframe thead th {\n",
              "        text-align: right;\n",
              "    }\n",
              "</style>\n",
              "<table border=\"1\" class=\"dataframe\">\n",
              "  <thead>\n",
              "    <tr style=\"text-align: right;\">\n",
              "      <th></th>\n",
              "      <th>0</th>\n",
              "    </tr>\n",
              "  </thead>\n",
              "  <tbody>\n",
              "    <tr>\n",
              "      <th>Age</th>\n",
              "      <td>762</td>\n",
              "    </tr>\n",
              "    <tr>\n",
              "      <th>Gender</th>\n",
              "      <td>762</td>\n",
              "    </tr>\n",
              "    <tr>\n",
              "      <th>EducationLevel</th>\n",
              "      <td>762</td>\n",
              "    </tr>\n",
              "    <tr>\n",
              "      <th>ExperienceYears</th>\n",
              "      <td>762</td>\n",
              "    </tr>\n",
              "    <tr>\n",
              "      <th>PreviousCompanies</th>\n",
              "      <td>762</td>\n",
              "    </tr>\n",
              "    <tr>\n",
              "      <th>DistanceFromCompany</th>\n",
              "      <td>762</td>\n",
              "    </tr>\n",
              "    <tr>\n",
              "      <th>InterviewScore</th>\n",
              "      <td>762</td>\n",
              "    </tr>\n",
              "    <tr>\n",
              "      <th>SkillScore</th>\n",
              "      <td>762</td>\n",
              "    </tr>\n",
              "    <tr>\n",
              "      <th>PersonalityScore</th>\n",
              "      <td>762</td>\n",
              "    </tr>\n",
              "    <tr>\n",
              "      <th>RecruitmentStrategy</th>\n",
              "      <td>762</td>\n",
              "    </tr>\n",
              "    <tr>\n",
              "      <th>HiringDecision</th>\n",
              "      <td>762</td>\n",
              "    </tr>\n",
              "    <tr>\n",
              "      <th>Resume_Text</th>\n",
              "      <td>762</td>\n",
              "    </tr>\n",
              "  </tbody>\n",
              "</table>\n",
              "</div><br><label><b>dtype:</b> int64</label>"
            ]
          },
          "metadata": {},
          "execution_count": 67
        }
      ],
      "execution_count": 67
    },
    {
      "cell_type": "markdown",
      "source": [
        "As you can see we have 762 males in our dataset, let's say we'll have 650 of those in the training dataset."
      ],
      "metadata": {
        "id": "dBmKAP0bIfA8"
      }
    },
    {
      "cell_type": "code",
      "source": [
        "from sklearn.model_selection import train_test_split\n",
        "import pandas as pd\n",
        "import numpy as np\n",
        "\n",
        "def imbalanced_split(df, male_train_ratio=0.95, female_train_ratio=0.1):\n",
        "    \"\"\"\n",
        "    Imbalanced split preserving all DataFrame columns\n",
        "    Parameters:\n",
        "    df: DataFrame with 'Gender' and 'Resume_Text' columns (and other columns)\n",
        "    male_train_ratio: Proportion of males for training (0.8 = 80%)\n",
        "    female_train_ratio: Proportion of females for training (0.4 = 40%)\n",
        "    Returns:\n",
        "    train_df, test_df: Full DataFrames with all original columns\n",
        "    \"\"\"\n",
        "    # Separate male and female\n",
        "    male_df = df[df['Gender'] == 0].copy()\n",
        "    female_df = df[df['Gender'] == 1].copy()\n",
        "\n",
        "    # Split males according to male_train_ratio\n",
        "    male_train, male_test = train_test_split(\n",
        "        male_df,\n",
        "        train_size=male_train_ratio,\n",
        "        random_state=42,\n",
        "        shuffle=True\n",
        "    )\n",
        "\n",
        "    # Split females\n",
        "    female_train, female_test = train_test_split(\n",
        "        female_df,\n",
        "        train_size=female_train_ratio,\n",
        "        random_state=42,\n",
        "        shuffle=True\n",
        "    )\n",
        "\n",
        "    # Combine train and test sets\n",
        "    train_df = pd.concat([male_train, female_train], ignore_index=True)\n",
        "    test_df = pd.concat([male_test, female_test], ignore_index=True)\n",
        "\n",
        "    # Shuffle the combined datasets\n",
        "    train_indices = np.random.RandomState(42).permutation(len(train_df))\n",
        "    test_indices = np.random.RandomState(42).permutation(len(test_df))\n",
        "\n",
        "    train_df = train_df.iloc[train_indices].reset_index(drop=True)\n",
        "    test_df = test_df.iloc[test_indices].reset_index(drop=True)\n",
        "\n",
        "    return train_df, test_df"
      ],
      "metadata": {
        "id": "d_fcPD2fBBJy",
        "trusted": true,
        "execution": {
          "iopub.status.busy": "2025-07-07T17:41:04.746555Z",
          "iopub.execute_input": "2025-07-07T17:41:04.746798Z",
          "iopub.status.idle": "2025-07-07T17:41:05.389689Z",
          "shell.execute_reply.started": "2025-07-07T17:41:04.746776Z",
          "shell.execute_reply": "2025-07-07T17:41:05.389118Z"
        }
      },
      "outputs": [],
      "execution_count": 68
    },
    {
      "cell_type": "code",
      "source": [
        "train_df, test_df = imbalanced_split(with_text_df)\n",
        "test_df"
      ],
      "metadata": {
        "id": "Ns9TGGN6J4-T",
        "outputId": "04b9859d-a79f-4436-e25a-c3f2d8b35d4e",
        "trusted": true,
        "execution": {
          "iopub.status.busy": "2025-07-07T17:41:05.390450Z",
          "iopub.execute_input": "2025-07-07T17:41:05.390774Z",
          "iopub.status.idle": "2025-07-07T17:41:05.411967Z",
          "shell.execute_reply.started": "2025-07-07T17:41:05.390755Z",
          "shell.execute_reply": "2025-07-07T17:41:05.411229Z"
        },
        "colab": {
          "base_uri": "https://localhost:8080/",
          "height": 1000
        }
      },
      "outputs": [
        {
          "output_type": "execute_result",
          "data": {
            "text/plain": [
              "     Age  Gender  EducationLevel  ExperienceYears  PreviousCompanies  \\\n",
              "0     37       1               2                8                  3   \n",
              "1     49       1               3                0                  1   \n",
              "2     21       1               1               14                  4   \n",
              "3     22       1               2               15                  4   \n",
              "4     20       1               2                1                  2   \n",
              "..   ...     ...             ...              ...                ...   \n",
              "699   36       1               2                8                  5   \n",
              "700   29       1               2                2                  4   \n",
              "701   48       1               2                9                  2   \n",
              "702   28       1               4                3                  1   \n",
              "703   38       1               2               15                  1   \n",
              "\n",
              "     DistanceFromCompany  InterviewScore  SkillScore  PersonalityScore  \\\n",
              "0              40.150012              96          96                83   \n",
              "1              23.222048              68          92                61   \n",
              "2               7.461190              42         100                36   \n",
              "3              42.659583              25          49                46   \n",
              "4              21.706576              73          70                11   \n",
              "..                   ...             ...         ...               ...   \n",
              "699            37.496176              40          33                68   \n",
              "700            45.970626              14          79                71   \n",
              "701            49.804301              52          42                82   \n",
              "702            34.090536              88          45                60   \n",
              "703            12.004503              84          83                24   \n",
              "\n",
              "     RecruitmentStrategy  HiringDecision  \\\n",
              "0                      1               1   \n",
              "1                      3               0   \n",
              "2                      1               1   \n",
              "3                      1               0   \n",
              "4                      1               1   \n",
              "..                   ...             ...   \n",
              "699                    2               0   \n",
              "700                    2               0   \n",
              "701                    2               0   \n",
              "702                    1               1   \n",
              "703                    1               1   \n",
              "\n",
              "                                           Resume_Text  \n",
              "0    I represent a female applicant of 37.0 years w...  \n",
              "1    I represent a female applicant of 49.0 years w...  \n",
              "2    As a female professional aged 21.0, I hold a 1...  \n",
              "3    I am a female candidate, 22.0 years old, with ...  \n",
              "4    As a female professional aged 20.0, I hold a 2...  \n",
              "..                                                 ...  \n",
              "699  I represent a female applicant of 36.0 years w...  \n",
              "700  I am a 29.0-year-old female candidate with a 2...  \n",
              "701  As a female professional aged 48.0, I hold a 2...  \n",
              "702  Profile: female candidate, age 28.0, education...  \n",
              "703  I am a 38.0-year-old female candidate with a 2...  \n",
              "\n",
              "[704 rows x 12 columns]"
            ],
            "text/html": [
              "\n",
              "  <div id=\"df-e41607d5-473c-402e-9723-4dad7655e023\" class=\"colab-df-container\">\n",
              "    <div>\n",
              "<style scoped>\n",
              "    .dataframe tbody tr th:only-of-type {\n",
              "        vertical-align: middle;\n",
              "    }\n",
              "\n",
              "    .dataframe tbody tr th {\n",
              "        vertical-align: top;\n",
              "    }\n",
              "\n",
              "    .dataframe thead th {\n",
              "        text-align: right;\n",
              "    }\n",
              "</style>\n",
              "<table border=\"1\" class=\"dataframe\">\n",
              "  <thead>\n",
              "    <tr style=\"text-align: right;\">\n",
              "      <th></th>\n",
              "      <th>Age</th>\n",
              "      <th>Gender</th>\n",
              "      <th>EducationLevel</th>\n",
              "      <th>ExperienceYears</th>\n",
              "      <th>PreviousCompanies</th>\n",
              "      <th>DistanceFromCompany</th>\n",
              "      <th>InterviewScore</th>\n",
              "      <th>SkillScore</th>\n",
              "      <th>PersonalityScore</th>\n",
              "      <th>RecruitmentStrategy</th>\n",
              "      <th>HiringDecision</th>\n",
              "      <th>Resume_Text</th>\n",
              "    </tr>\n",
              "  </thead>\n",
              "  <tbody>\n",
              "    <tr>\n",
              "      <th>0</th>\n",
              "      <td>37</td>\n",
              "      <td>1</td>\n",
              "      <td>2</td>\n",
              "      <td>8</td>\n",
              "      <td>3</td>\n",
              "      <td>40.150012</td>\n",
              "      <td>96</td>\n",
              "      <td>96</td>\n",
              "      <td>83</td>\n",
              "      <td>1</td>\n",
              "      <td>1</td>\n",
              "      <td>I represent a female applicant of 37.0 years w...</td>\n",
              "    </tr>\n",
              "    <tr>\n",
              "      <th>1</th>\n",
              "      <td>49</td>\n",
              "      <td>1</td>\n",
              "      <td>3</td>\n",
              "      <td>0</td>\n",
              "      <td>1</td>\n",
              "      <td>23.222048</td>\n",
              "      <td>68</td>\n",
              "      <td>92</td>\n",
              "      <td>61</td>\n",
              "      <td>3</td>\n",
              "      <td>0</td>\n",
              "      <td>I represent a female applicant of 49.0 years w...</td>\n",
              "    </tr>\n",
              "    <tr>\n",
              "      <th>2</th>\n",
              "      <td>21</td>\n",
              "      <td>1</td>\n",
              "      <td>1</td>\n",
              "      <td>14</td>\n",
              "      <td>4</td>\n",
              "      <td>7.461190</td>\n",
              "      <td>42</td>\n",
              "      <td>100</td>\n",
              "      <td>36</td>\n",
              "      <td>1</td>\n",
              "      <td>1</td>\n",
              "      <td>As a female professional aged 21.0, I hold a 1...</td>\n",
              "    </tr>\n",
              "    <tr>\n",
              "      <th>3</th>\n",
              "      <td>22</td>\n",
              "      <td>1</td>\n",
              "      <td>2</td>\n",
              "      <td>15</td>\n",
              "      <td>4</td>\n",
              "      <td>42.659583</td>\n",
              "      <td>25</td>\n",
              "      <td>49</td>\n",
              "      <td>46</td>\n",
              "      <td>1</td>\n",
              "      <td>0</td>\n",
              "      <td>I am a female candidate, 22.0 years old, with ...</td>\n",
              "    </tr>\n",
              "    <tr>\n",
              "      <th>4</th>\n",
              "      <td>20</td>\n",
              "      <td>1</td>\n",
              "      <td>2</td>\n",
              "      <td>1</td>\n",
              "      <td>2</td>\n",
              "      <td>21.706576</td>\n",
              "      <td>73</td>\n",
              "      <td>70</td>\n",
              "      <td>11</td>\n",
              "      <td>1</td>\n",
              "      <td>1</td>\n",
              "      <td>As a female professional aged 20.0, I hold a 2...</td>\n",
              "    </tr>\n",
              "    <tr>\n",
              "      <th>...</th>\n",
              "      <td>...</td>\n",
              "      <td>...</td>\n",
              "      <td>...</td>\n",
              "      <td>...</td>\n",
              "      <td>...</td>\n",
              "      <td>...</td>\n",
              "      <td>...</td>\n",
              "      <td>...</td>\n",
              "      <td>...</td>\n",
              "      <td>...</td>\n",
              "      <td>...</td>\n",
              "      <td>...</td>\n",
              "    </tr>\n",
              "    <tr>\n",
              "      <th>699</th>\n",
              "      <td>36</td>\n",
              "      <td>1</td>\n",
              "      <td>2</td>\n",
              "      <td>8</td>\n",
              "      <td>5</td>\n",
              "      <td>37.496176</td>\n",
              "      <td>40</td>\n",
              "      <td>33</td>\n",
              "      <td>68</td>\n",
              "      <td>2</td>\n",
              "      <td>0</td>\n",
              "      <td>I represent a female applicant of 36.0 years w...</td>\n",
              "    </tr>\n",
              "    <tr>\n",
              "      <th>700</th>\n",
              "      <td>29</td>\n",
              "      <td>1</td>\n",
              "      <td>2</td>\n",
              "      <td>2</td>\n",
              "      <td>4</td>\n",
              "      <td>45.970626</td>\n",
              "      <td>14</td>\n",
              "      <td>79</td>\n",
              "      <td>71</td>\n",
              "      <td>2</td>\n",
              "      <td>0</td>\n",
              "      <td>I am a 29.0-year-old female candidate with a 2...</td>\n",
              "    </tr>\n",
              "    <tr>\n",
              "      <th>701</th>\n",
              "      <td>48</td>\n",
              "      <td>1</td>\n",
              "      <td>2</td>\n",
              "      <td>9</td>\n",
              "      <td>2</td>\n",
              "      <td>49.804301</td>\n",
              "      <td>52</td>\n",
              "      <td>42</td>\n",
              "      <td>82</td>\n",
              "      <td>2</td>\n",
              "      <td>0</td>\n",
              "      <td>As a female professional aged 48.0, I hold a 2...</td>\n",
              "    </tr>\n",
              "    <tr>\n",
              "      <th>702</th>\n",
              "      <td>28</td>\n",
              "      <td>1</td>\n",
              "      <td>4</td>\n",
              "      <td>3</td>\n",
              "      <td>1</td>\n",
              "      <td>34.090536</td>\n",
              "      <td>88</td>\n",
              "      <td>45</td>\n",
              "      <td>60</td>\n",
              "      <td>1</td>\n",
              "      <td>1</td>\n",
              "      <td>Profile: female candidate, age 28.0, education...</td>\n",
              "    </tr>\n",
              "    <tr>\n",
              "      <th>703</th>\n",
              "      <td>38</td>\n",
              "      <td>1</td>\n",
              "      <td>2</td>\n",
              "      <td>15</td>\n",
              "      <td>1</td>\n",
              "      <td>12.004503</td>\n",
              "      <td>84</td>\n",
              "      <td>83</td>\n",
              "      <td>24</td>\n",
              "      <td>1</td>\n",
              "      <td>1</td>\n",
              "      <td>I am a 38.0-year-old female candidate with a 2...</td>\n",
              "    </tr>\n",
              "  </tbody>\n",
              "</table>\n",
              "<p>704 rows × 12 columns</p>\n",
              "</div>\n",
              "    <div class=\"colab-df-buttons\">\n",
              "\n",
              "  <div class=\"colab-df-container\">\n",
              "    <button class=\"colab-df-convert\" onclick=\"convertToInteractive('df-e41607d5-473c-402e-9723-4dad7655e023')\"\n",
              "            title=\"Convert this dataframe to an interactive table.\"\n",
              "            style=\"display:none;\">\n",
              "\n",
              "  <svg xmlns=\"http://www.w3.org/2000/svg\" height=\"24px\" viewBox=\"0 -960 960 960\">\n",
              "    <path d=\"M120-120v-720h720v720H120Zm60-500h600v-160H180v160Zm220 220h160v-160H400v160Zm0 220h160v-160H400v160ZM180-400h160v-160H180v160Zm440 0h160v-160H620v160ZM180-180h160v-160H180v160Zm440 0h160v-160H620v160Z\"/>\n",
              "  </svg>\n",
              "    </button>\n",
              "\n",
              "  <style>\n",
              "    .colab-df-container {\n",
              "      display:flex;\n",
              "      gap: 12px;\n",
              "    }\n",
              "\n",
              "    .colab-df-convert {\n",
              "      background-color: #E8F0FE;\n",
              "      border: none;\n",
              "      border-radius: 50%;\n",
              "      cursor: pointer;\n",
              "      display: none;\n",
              "      fill: #1967D2;\n",
              "      height: 32px;\n",
              "      padding: 0 0 0 0;\n",
              "      width: 32px;\n",
              "    }\n",
              "\n",
              "    .colab-df-convert:hover {\n",
              "      background-color: #E2EBFA;\n",
              "      box-shadow: 0px 1px 2px rgba(60, 64, 67, 0.3), 0px 1px 3px 1px rgba(60, 64, 67, 0.15);\n",
              "      fill: #174EA6;\n",
              "    }\n",
              "\n",
              "    .colab-df-buttons div {\n",
              "      margin-bottom: 4px;\n",
              "    }\n",
              "\n",
              "    [theme=dark] .colab-df-convert {\n",
              "      background-color: #3B4455;\n",
              "      fill: #D2E3FC;\n",
              "    }\n",
              "\n",
              "    [theme=dark] .colab-df-convert:hover {\n",
              "      background-color: #434B5C;\n",
              "      box-shadow: 0px 1px 3px 1px rgba(0, 0, 0, 0.15);\n",
              "      filter: drop-shadow(0px 1px 2px rgba(0, 0, 0, 0.3));\n",
              "      fill: #FFFFFF;\n",
              "    }\n",
              "  </style>\n",
              "\n",
              "    <script>\n",
              "      const buttonEl =\n",
              "        document.querySelector('#df-e41607d5-473c-402e-9723-4dad7655e023 button.colab-df-convert');\n",
              "      buttonEl.style.display =\n",
              "        google.colab.kernel.accessAllowed ? 'block' : 'none';\n",
              "\n",
              "      async function convertToInteractive(key) {\n",
              "        const element = document.querySelector('#df-e41607d5-473c-402e-9723-4dad7655e023');\n",
              "        const dataTable =\n",
              "          await google.colab.kernel.invokeFunction('convertToInteractive',\n",
              "                                                    [key], {});\n",
              "        if (!dataTable) return;\n",
              "\n",
              "        const docLinkHtml = 'Like what you see? Visit the ' +\n",
              "          '<a target=\"_blank\" href=https://colab.research.google.com/notebooks/data_table.ipynb>data table notebook</a>'\n",
              "          + ' to learn more about interactive tables.';\n",
              "        element.innerHTML = '';\n",
              "        dataTable['output_type'] = 'display_data';\n",
              "        await google.colab.output.renderOutput(dataTable, element);\n",
              "        const docLink = document.createElement('div');\n",
              "        docLink.innerHTML = docLinkHtml;\n",
              "        element.appendChild(docLink);\n",
              "      }\n",
              "    </script>\n",
              "  </div>\n",
              "\n",
              "\n",
              "    <div id=\"df-ae428359-0908-468f-8f48-496cdfbfbd2a\">\n",
              "      <button class=\"colab-df-quickchart\" onclick=\"quickchart('df-ae428359-0908-468f-8f48-496cdfbfbd2a')\"\n",
              "                title=\"Suggest charts\"\n",
              "                style=\"display:none;\">\n",
              "\n",
              "<svg xmlns=\"http://www.w3.org/2000/svg\" height=\"24px\"viewBox=\"0 0 24 24\"\n",
              "     width=\"24px\">\n",
              "    <g>\n",
              "        <path d=\"M19 3H5c-1.1 0-2 .9-2 2v14c0 1.1.9 2 2 2h14c1.1 0 2-.9 2-2V5c0-1.1-.9-2-2-2zM9 17H7v-7h2v7zm4 0h-2V7h2v10zm4 0h-2v-4h2v4z\"/>\n",
              "    </g>\n",
              "</svg>\n",
              "      </button>\n",
              "\n",
              "<style>\n",
              "  .colab-df-quickchart {\n",
              "      --bg-color: #E8F0FE;\n",
              "      --fill-color: #1967D2;\n",
              "      --hover-bg-color: #E2EBFA;\n",
              "      --hover-fill-color: #174EA6;\n",
              "      --disabled-fill-color: #AAA;\n",
              "      --disabled-bg-color: #DDD;\n",
              "  }\n",
              "\n",
              "  [theme=dark] .colab-df-quickchart {\n",
              "      --bg-color: #3B4455;\n",
              "      --fill-color: #D2E3FC;\n",
              "      --hover-bg-color: #434B5C;\n",
              "      --hover-fill-color: #FFFFFF;\n",
              "      --disabled-bg-color: #3B4455;\n",
              "      --disabled-fill-color: #666;\n",
              "  }\n",
              "\n",
              "  .colab-df-quickchart {\n",
              "    background-color: var(--bg-color);\n",
              "    border: none;\n",
              "    border-radius: 50%;\n",
              "    cursor: pointer;\n",
              "    display: none;\n",
              "    fill: var(--fill-color);\n",
              "    height: 32px;\n",
              "    padding: 0;\n",
              "    width: 32px;\n",
              "  }\n",
              "\n",
              "  .colab-df-quickchart:hover {\n",
              "    background-color: var(--hover-bg-color);\n",
              "    box-shadow: 0 1px 2px rgba(60, 64, 67, 0.3), 0 1px 3px 1px rgba(60, 64, 67, 0.15);\n",
              "    fill: var(--button-hover-fill-color);\n",
              "  }\n",
              "\n",
              "  .colab-df-quickchart-complete:disabled,\n",
              "  .colab-df-quickchart-complete:disabled:hover {\n",
              "    background-color: var(--disabled-bg-color);\n",
              "    fill: var(--disabled-fill-color);\n",
              "    box-shadow: none;\n",
              "  }\n",
              "\n",
              "  .colab-df-spinner {\n",
              "    border: 2px solid var(--fill-color);\n",
              "    border-color: transparent;\n",
              "    border-bottom-color: var(--fill-color);\n",
              "    animation:\n",
              "      spin 1s steps(1) infinite;\n",
              "  }\n",
              "\n",
              "  @keyframes spin {\n",
              "    0% {\n",
              "      border-color: transparent;\n",
              "      border-bottom-color: var(--fill-color);\n",
              "      border-left-color: var(--fill-color);\n",
              "    }\n",
              "    20% {\n",
              "      border-color: transparent;\n",
              "      border-left-color: var(--fill-color);\n",
              "      border-top-color: var(--fill-color);\n",
              "    }\n",
              "    30% {\n",
              "      border-color: transparent;\n",
              "      border-left-color: var(--fill-color);\n",
              "      border-top-color: var(--fill-color);\n",
              "      border-right-color: var(--fill-color);\n",
              "    }\n",
              "    40% {\n",
              "      border-color: transparent;\n",
              "      border-right-color: var(--fill-color);\n",
              "      border-top-color: var(--fill-color);\n",
              "    }\n",
              "    60% {\n",
              "      border-color: transparent;\n",
              "      border-right-color: var(--fill-color);\n",
              "    }\n",
              "    80% {\n",
              "      border-color: transparent;\n",
              "      border-right-color: var(--fill-color);\n",
              "      border-bottom-color: var(--fill-color);\n",
              "    }\n",
              "    90% {\n",
              "      border-color: transparent;\n",
              "      border-bottom-color: var(--fill-color);\n",
              "    }\n",
              "  }\n",
              "</style>\n",
              "\n",
              "      <script>\n",
              "        async function quickchart(key) {\n",
              "          const quickchartButtonEl =\n",
              "            document.querySelector('#' + key + ' button');\n",
              "          quickchartButtonEl.disabled = true;  // To prevent multiple clicks.\n",
              "          quickchartButtonEl.classList.add('colab-df-spinner');\n",
              "          try {\n",
              "            const charts = await google.colab.kernel.invokeFunction(\n",
              "                'suggestCharts', [key], {});\n",
              "          } catch (error) {\n",
              "            console.error('Error during call to suggestCharts:', error);\n",
              "          }\n",
              "          quickchartButtonEl.classList.remove('colab-df-spinner');\n",
              "          quickchartButtonEl.classList.add('colab-df-quickchart-complete');\n",
              "        }\n",
              "        (() => {\n",
              "          let quickchartButtonEl =\n",
              "            document.querySelector('#df-ae428359-0908-468f-8f48-496cdfbfbd2a button');\n",
              "          quickchartButtonEl.style.display =\n",
              "            google.colab.kernel.accessAllowed ? 'block' : 'none';\n",
              "        })();\n",
              "      </script>\n",
              "    </div>\n",
              "\n",
              "  <div id=\"id_50baa5c3-883e-4ef4-8b4a-1f454db14617\">\n",
              "    <style>\n",
              "      .colab-df-generate {\n",
              "        background-color: #E8F0FE;\n",
              "        border: none;\n",
              "        border-radius: 50%;\n",
              "        cursor: pointer;\n",
              "        display: none;\n",
              "        fill: #1967D2;\n",
              "        height: 32px;\n",
              "        padding: 0 0 0 0;\n",
              "        width: 32px;\n",
              "      }\n",
              "\n",
              "      .colab-df-generate:hover {\n",
              "        background-color: #E2EBFA;\n",
              "        box-shadow: 0px 1px 2px rgba(60, 64, 67, 0.3), 0px 1px 3px 1px rgba(60, 64, 67, 0.15);\n",
              "        fill: #174EA6;\n",
              "      }\n",
              "\n",
              "      [theme=dark] .colab-df-generate {\n",
              "        background-color: #3B4455;\n",
              "        fill: #D2E3FC;\n",
              "      }\n",
              "\n",
              "      [theme=dark] .colab-df-generate:hover {\n",
              "        background-color: #434B5C;\n",
              "        box-shadow: 0px 1px 3px 1px rgba(0, 0, 0, 0.15);\n",
              "        filter: drop-shadow(0px 1px 2px rgba(0, 0, 0, 0.3));\n",
              "        fill: #FFFFFF;\n",
              "      }\n",
              "    </style>\n",
              "    <button class=\"colab-df-generate\" onclick=\"generateWithVariable('test_df')\"\n",
              "            title=\"Generate code using this dataframe.\"\n",
              "            style=\"display:none;\">\n",
              "\n",
              "  <svg xmlns=\"http://www.w3.org/2000/svg\" height=\"24px\"viewBox=\"0 0 24 24\"\n",
              "       width=\"24px\">\n",
              "    <path d=\"M7,19H8.4L18.45,9,17,7.55,7,17.6ZM5,21V16.75L18.45,3.32a2,2,0,0,1,2.83,0l1.4,1.43a1.91,1.91,0,0,1,.58,1.4,1.91,1.91,0,0,1-.58,1.4L9.25,21ZM18.45,9,17,7.55Zm-12,3A5.31,5.31,0,0,0,4.9,8.1,5.31,5.31,0,0,0,1,6.5,5.31,5.31,0,0,0,4.9,4.9,5.31,5.31,0,0,0,6.5,1,5.31,5.31,0,0,0,8.1,4.9,5.31,5.31,0,0,0,12,6.5,5.46,5.46,0,0,0,6.5,12Z\"/>\n",
              "  </svg>\n",
              "    </button>\n",
              "    <script>\n",
              "      (() => {\n",
              "      const buttonEl =\n",
              "        document.querySelector('#id_50baa5c3-883e-4ef4-8b4a-1f454db14617 button.colab-df-generate');\n",
              "      buttonEl.style.display =\n",
              "        google.colab.kernel.accessAllowed ? 'block' : 'none';\n",
              "\n",
              "      buttonEl.onclick = () => {\n",
              "        google.colab.notebook.generateWithVariable('test_df');\n",
              "      }\n",
              "      })();\n",
              "    </script>\n",
              "  </div>\n",
              "\n",
              "    </div>\n",
              "  </div>\n"
            ],
            "application/vnd.google.colaboratory.intrinsic+json": {
              "type": "dataframe",
              "variable_name": "test_df",
              "summary": "{\n  \"name\": \"test_df\",\n  \"rows\": 704,\n  \"fields\": [\n    {\n      \"column\": \"Age\",\n      \"properties\": {\n        \"dtype\": \"number\",\n        \"std\": 9,\n        \"min\": 20,\n        \"max\": 50,\n        \"num_unique_values\": 31,\n        \"samples\": [\n          26,\n          36,\n          46\n        ],\n        \"semantic_type\": \"\",\n        \"description\": \"\"\n      }\n    },\n    {\n      \"column\": \"Gender\",\n      \"properties\": {\n        \"dtype\": \"number\",\n        \"std\": 0,\n        \"min\": 0,\n        \"max\": 1,\n        \"num_unique_values\": 2,\n        \"samples\": [\n          0,\n          1\n        ],\n        \"semantic_type\": \"\",\n        \"description\": \"\"\n      }\n    },\n    {\n      \"column\": \"EducationLevel\",\n      \"properties\": {\n        \"dtype\": \"number\",\n        \"std\": 0,\n        \"min\": 1,\n        \"max\": 4,\n        \"num_unique_values\": 4,\n        \"samples\": [\n          3,\n          4\n        ],\n        \"semantic_type\": \"\",\n        \"description\": \"\"\n      }\n    },\n    {\n      \"column\": \"ExperienceYears\",\n      \"properties\": {\n        \"dtype\": \"number\",\n        \"std\": 4,\n        \"min\": 0,\n        \"max\": 15,\n        \"num_unique_values\": 16,\n        \"samples\": [\n          8,\n          0\n        ],\n        \"semantic_type\": \"\",\n        \"description\": \"\"\n      }\n    },\n    {\n      \"column\": \"PreviousCompanies\",\n      \"properties\": {\n        \"dtype\": \"number\",\n        \"std\": 1,\n        \"min\": 1,\n        \"max\": 5,\n        \"num_unique_values\": 5,\n        \"samples\": [\n          1,\n          5\n        ],\n        \"semantic_type\": \"\",\n        \"description\": \"\"\n      }\n    },\n    {\n      \"column\": \"DistanceFromCompany\",\n      \"properties\": {\n        \"dtype\": \"number\",\n        \"std\": 14.948052686152902,\n        \"min\": 1.0634038457745123,\n        \"max\": 50.966813999175216,\n        \"num_unique_values\": 704,\n        \"samples\": [\n          14.13604717806514,\n          1.9724025184040583\n        ],\n        \"semantic_type\": \"\",\n        \"description\": \"\"\n      }\n    },\n    {\n      \"column\": \"InterviewScore\",\n      \"properties\": {\n        \"dtype\": \"number\",\n        \"std\": 28,\n        \"min\": 0,\n        \"max\": 100,\n        \"num_unique_values\": 100,\n        \"samples\": [\n          17,\n          53\n        ],\n        \"semantic_type\": \"\",\n        \"description\": \"\"\n      }\n    },\n    {\n      \"column\": \"SkillScore\",\n      \"properties\": {\n        \"dtype\": \"number\",\n        \"std\": 28,\n        \"min\": 0,\n        \"max\": 100,\n        \"num_unique_values\": 101,\n        \"samples\": [\n          95,\n          76\n        ],\n        \"semantic_type\": \"\",\n        \"description\": \"\"\n      }\n    },\n    {\n      \"column\": \"PersonalityScore\",\n      \"properties\": {\n        \"dtype\": \"number\",\n        \"std\": 29,\n        \"min\": 0,\n        \"max\": 100,\n        \"num_unique_values\": 101,\n        \"samples\": [\n          37,\n          71\n        ],\n        \"semantic_type\": \"\",\n        \"description\": \"\"\n      }\n    },\n    {\n      \"column\": \"RecruitmentStrategy\",\n      \"properties\": {\n        \"dtype\": \"number\",\n        \"std\": 0,\n        \"min\": 1,\n        \"max\": 3,\n        \"num_unique_values\": 3,\n        \"samples\": [\n          1,\n          3\n        ],\n        \"semantic_type\": \"\",\n        \"description\": \"\"\n      }\n    },\n    {\n      \"column\": \"HiringDecision\",\n      \"properties\": {\n        \"dtype\": \"number\",\n        \"std\": 0,\n        \"min\": 0,\n        \"max\": 1,\n        \"num_unique_values\": 2,\n        \"samples\": [\n          0,\n          1\n        ],\n        \"semantic_type\": \"\",\n        \"description\": \"\"\n      }\n    },\n    {\n      \"column\": \"Resume_Text\",\n      \"properties\": {\n        \"dtype\": \"string\",\n        \"num_unique_values\": 704,\n        \"samples\": [\n          \"I am a female candidate, 48.0 years old, with a 2.0 degree and 7.0 years of experience across 4.0 companies. I scored 28.0 in the interview, with a skill score of 71.0 and personality score of 40.0. I applied through 2.0.\",\n          \"I am a 42.0-year-old female candidate with a 2.0 degree. My professional background includes 6.0 years of experience across 4.0 organizations. I achieved an interview score of 76.0, with technical skills rated at 15.0 and personality assessment at 79.0. My application came through 1.0.\"\n        ],\n        \"semantic_type\": \"\",\n        \"description\": \"\"\n      }\n    }\n  ]\n}"
            }
          },
          "metadata": {},
          "execution_count": 69
        }
      ],
      "execution_count": 69
    },
    {
      "cell_type": "markdown",
      "source": [
        "As you can see from the head, the training dataset is more male than female. Also it's shuffled well enough."
      ],
      "metadata": {
        "id": "ILF-RWJzNffF"
      }
    },
    {
      "cell_type": "code",
      "source": [
        "# train dataset X, y\n",
        "X_train = train_df['Resume_Text']\n",
        "y_train = train_df['HiringDecision']\n",
        "# test dataset X, y\n",
        "X_test = test_df['Resume_Text']\n",
        "y_test = test_df['HiringDecision']"
      ],
      "metadata": {
        "id": "cELEmi46O30R",
        "trusted": true,
        "execution": {
          "iopub.status.busy": "2025-07-07T17:41:05.412792Z",
          "iopub.execute_input": "2025-07-07T17:41:05.413306Z",
          "iopub.status.idle": "2025-07-07T17:41:05.416732Z",
          "shell.execute_reply.started": "2025-07-07T17:41:05.413280Z",
          "shell.execute_reply": "2025-07-07T17:41:05.416178Z"
        }
      },
      "outputs": [],
      "execution_count": 70
    },
    {
      "cell_type": "code",
      "source": [
        "X_train.head(10)"
      ],
      "metadata": {
        "trusted": true,
        "execution": {
          "iopub.status.busy": "2025-07-07T17:41:05.419026Z",
          "iopub.execute_input": "2025-07-07T17:41:05.419203Z",
          "iopub.status.idle": "2025-07-07T17:41:05.431127Z",
          "shell.execute_reply.started": "2025-07-07T17:41:05.419189Z",
          "shell.execute_reply": "2025-07-07T17:41:05.430508Z"
        },
        "colab": {
          "base_uri": "https://localhost:8080/",
          "height": 398
        },
        "id": "h8GNfhOeDSre",
        "outputId": "52cb3752-709c-4083-e821-0efaf834a543"
      },
      "outputs": [
        {
          "output_type": "execute_result",
          "data": {
            "text/plain": [
              "0    I represent a male applicant of 44.0 years wit...\n",
              "1    I am a 33.0-year-old female candidate with a 2...\n",
              "2    Profile: male candidate, age 46.0, educational...\n",
              "3    I represent a male applicant of 40.0 years wit...\n",
              "4    I am a male candidate, 37.0 years old, with a ...\n",
              "5    As a female professional aged 41.0, I hold a 4...\n",
              "6    Profile: male candidate, age 32.0, educational...\n",
              "7    I represent a male applicant of 28.0 years wit...\n",
              "8    I am a male candidate, 40.0 years old, with a ...\n",
              "9    I am a 45.0-year-old male candidate with a 2.0...\n",
              "Name: Resume_Text, dtype: object"
            ],
            "text/html": [
              "<div>\n",
              "<style scoped>\n",
              "    .dataframe tbody tr th:only-of-type {\n",
              "        vertical-align: middle;\n",
              "    }\n",
              "\n",
              "    .dataframe tbody tr th {\n",
              "        vertical-align: top;\n",
              "    }\n",
              "\n",
              "    .dataframe thead th {\n",
              "        text-align: right;\n",
              "    }\n",
              "</style>\n",
              "<table border=\"1\" class=\"dataframe\">\n",
              "  <thead>\n",
              "    <tr style=\"text-align: right;\">\n",
              "      <th></th>\n",
              "      <th>Resume_Text</th>\n",
              "    </tr>\n",
              "  </thead>\n",
              "  <tbody>\n",
              "    <tr>\n",
              "      <th>0</th>\n",
              "      <td>I represent a male applicant of 44.0 years wit...</td>\n",
              "    </tr>\n",
              "    <tr>\n",
              "      <th>1</th>\n",
              "      <td>I am a 33.0-year-old female candidate with a 2...</td>\n",
              "    </tr>\n",
              "    <tr>\n",
              "      <th>2</th>\n",
              "      <td>Profile: male candidate, age 46.0, educational...</td>\n",
              "    </tr>\n",
              "    <tr>\n",
              "      <th>3</th>\n",
              "      <td>I represent a male applicant of 40.0 years wit...</td>\n",
              "    </tr>\n",
              "    <tr>\n",
              "      <th>4</th>\n",
              "      <td>I am a male candidate, 37.0 years old, with a ...</td>\n",
              "    </tr>\n",
              "    <tr>\n",
              "      <th>5</th>\n",
              "      <td>As a female professional aged 41.0, I hold a 4...</td>\n",
              "    </tr>\n",
              "    <tr>\n",
              "      <th>6</th>\n",
              "      <td>Profile: male candidate, age 32.0, educational...</td>\n",
              "    </tr>\n",
              "    <tr>\n",
              "      <th>7</th>\n",
              "      <td>I represent a male applicant of 28.0 years wit...</td>\n",
              "    </tr>\n",
              "    <tr>\n",
              "      <th>8</th>\n",
              "      <td>I am a male candidate, 40.0 years old, with a ...</td>\n",
              "    </tr>\n",
              "    <tr>\n",
              "      <th>9</th>\n",
              "      <td>I am a 45.0-year-old male candidate with a 2.0...</td>\n",
              "    </tr>\n",
              "  </tbody>\n",
              "</table>\n",
              "</div><br><label><b>dtype:</b> object</label>"
            ]
          },
          "metadata": {},
          "execution_count": 71
        }
      ],
      "execution_count": 71
    },
    {
      "cell_type": "markdown",
      "source": [
        "# Model Definition"
      ],
      "metadata": {
        "id": "1G5tS7N0Pd9C"
      }
    },
    {
      "cell_type": "markdown",
      "source": [
        "Forn our purposes, we'll use a pre-trained BERT model, that will be fine-tuned on our dataset. Let's see how the BERT model can tokenize a sample text"
      ],
      "metadata": {
        "id": "BW1RQXs-Pg0E"
      }
    },
    {
      "cell_type": "markdown",
      "source": [
        "Make sure you run on GPU"
      ],
      "metadata": {
        "id": "VOR4ifbaS1SE"
      }
    },
    {
      "cell_type": "code",
      "source": [
        "print(torch.cuda.is_available())  # Should return True if GPU is ready"
      ],
      "metadata": {
        "id": "PwXA0jS2SlJm",
        "outputId": "36de1e8c-ece6-4f3d-92b5-6c58d02f9bbf",
        "trusted": true,
        "execution": {
          "iopub.status.busy": "2025-07-07T17:41:05.431745Z",
          "iopub.execute_input": "2025-07-07T17:41:05.432011Z",
          "iopub.status.idle": "2025-07-07T17:41:05.526800Z",
          "shell.execute_reply.started": "2025-07-07T17:41:05.431994Z",
          "shell.execute_reply": "2025-07-07T17:41:05.526064Z"
        },
        "colab": {
          "base_uri": "https://localhost:8080/"
        }
      },
      "outputs": [
        {
          "output_type": "stream",
          "name": "stdout",
          "text": [
            "True\n"
          ]
        }
      ],
      "execution_count": 72
    },
    {
      "cell_type": "markdown",
      "source": [
        "Let's use the model above and define it."
      ],
      "metadata": {
        "id": "TzDieEesSKE6"
      }
    },
    {
      "cell_type": "markdown",
      "source": [
        "## Tokenization\n",
        "\n",
        "Tokenization is the process of converting a sequence of text into individual units or tokens. These tokens are the smallest pieces of text that are meaningful for the task being performed. Tokenization is typically the first step in the text preprocessing pipeline in NLP.\n",
        "\n"
      ],
      "metadata": {
        "id": "3y6QfiJYg-8S"
      }
    },
    {
      "cell_type": "code",
      "source": [
        "from transformers import AutoTokenizer\n",
        "\n",
        "# Initialize the BERT tokenizer\n",
        "tokenizer = AutoTokenizer.from_pretrained(\"bert-base-uncased\")\n",
        "\n",
        "sample_text = X_train[1]\n",
        "print(sample_text)\n",
        "tokens = tokenizer(sample_text, padding=\"max_length\", truncation=True, max_length=128)"
      ],
      "metadata": {
        "id": "mKxvwysgPgMW",
        "outputId": "2e016c29-63c2-4e6c-f274-ecfaff11112f",
        "trusted": true,
        "execution": {
          "iopub.status.busy": "2025-07-07T17:41:05.527661Z",
          "iopub.execute_input": "2025-07-07T17:41:05.527902Z",
          "iopub.status.idle": "2025-07-07T17:41:13.209146Z",
          "shell.execute_reply.started": "2025-07-07T17:41:05.527884Z",
          "shell.execute_reply": "2025-07-07T17:41:13.208414Z"
        },
        "colab": {
          "base_uri": "https://localhost:8080/"
        }
      },
      "outputs": [
        {
          "output_type": "stream",
          "name": "stdout",
          "text": [
            "I am a 33.0-year-old female candidate with a 2.0 degree. My professional background includes 2.0 years of experience across 2.0 organizations. I achieved an interview score of 75.0, with technical skills rated at 73.0 and personality assessment at 61.0. My application came through 2.0.\n"
          ]
        }
      ],
      "execution_count": 73
    },
    {
      "cell_type": "markdown",
      "source": [
        "Let's first see the lengths of the tokenized `Resume_Text`."
      ],
      "metadata": {
        "id": "LnN1DYfElyyl"
      }
    },
    {
      "cell_type": "code",
      "source": [
        "lengths = [len(tokenizer(x)[\"input_ids\"]) for x in X_train]\n",
        "lengths[:10]"
      ],
      "metadata": {
        "id": "rZy3AXONl-AT",
        "outputId": "fecde0c0-9428-485f-dd2b-98704702a6ac",
        "trusted": true,
        "execution": {
          "iopub.status.busy": "2025-07-07T17:41:13.209839Z",
          "iopub.execute_input": "2025-07-07T17:41:13.210218Z",
          "iopub.status.idle": "2025-07-07T17:41:13.398288Z",
          "shell.execute_reply.started": "2025-07-07T17:41:13.210199Z",
          "shell.execute_reply": "2025-07-07T17:41:13.397687Z"
        },
        "colab": {
          "base_uri": "https://localhost:8080/"
        }
      },
      "outputs": [
        {
          "output_type": "execute_result",
          "data": {
            "text/plain": [
              "[70, 71, 59, 70, 65, 68, 59, 70, 65, 71]"
            ]
          },
          "metadata": {},
          "execution_count": 74
        }
      ],
      "execution_count": 74
    },
    {
      "cell_type": "code",
      "source": [
        "import matplotlib.pyplot as plt\n",
        "\n",
        "sample_indices = range(len(lengths))\n",
        "plt.scatter(sample_indices, lengths, alpha=0.7, s=50, color='blue', edgecolors='black')\n",
        "plt.axhline(np.mean(lengths), color='red', linestyle='--',\n",
        "                   label=f'Mean: {np.mean(lengths):.1f}')\n",
        "plt.axhline(np.median(lengths), color='green', linestyle='--',\n",
        "                   label=f'Median: {np.median(lengths):.1f}')\n",
        "plt.axhline(np.max(lengths), color='orange', linestyle='--',\n",
        "            label=f'Max: {np.max(lengths)}')\n",
        "plt.xlabel('Sample Index')\n",
        "plt.ylabel('Token Length')\n",
        "plt.title('Each Sample\\'s Token Length (Every Point is One Sample)')\n",
        "plt.legend()"
      ],
      "metadata": {
        "id": "eXAQuslvnLfl",
        "outputId": "f9893d2f-755d-4f7b-ce64-b934d8f9a730",
        "trusted": true,
        "execution": {
          "iopub.status.busy": "2025-07-07T17:41:13.399025Z",
          "iopub.execute_input": "2025-07-07T17:41:13.399274Z",
          "iopub.status.idle": "2025-07-07T17:41:13.789361Z",
          "shell.execute_reply.started": "2025-07-07T17:41:13.399251Z",
          "shell.execute_reply": "2025-07-07T17:41:13.788535Z"
        },
        "colab": {
          "base_uri": "https://localhost:8080/",
          "height": 489
        }
      },
      "outputs": [
        {
          "output_type": "execute_result",
          "data": {
            "text/plain": [
              "<matplotlib.legend.Legend at 0x7a2bb4a4a2d0>"
            ]
          },
          "metadata": {},
          "execution_count": 75
        },
        {
          "output_type": "display_data",
          "data": {
            "text/plain": [
              "<Figure size 640x480 with 1 Axes>"
            ],
            "image/png": "[encoded data removed]"
          },
          "metadata": {}
        }
      ],
      "execution_count": 75
    },
    {
      "cell_type": "markdown",
      "source": [
        "As you can see, the lengths are well defined in 5 lines. This is because our templates had only 5 possibilities.\n",
        "\n",
        "Our max is 71 tokens\n",
        "96 gives us a 35% buffer (71 × 1.35 ≈ 96)"
      ],
      "metadata": {
        "id": "WZ95C3m_qG4Z"
      }
    },
    {
      "cell_type": "code",
      "source": [
        "def tokenize(example):\n",
        "    return tokenizer(\n",
        "        example[\"Resume_Text\"],\n",
        "        padding=\"max_length\",\n",
        "        truncation=True,\n",
        "        max_length=96,\n",
        "    )\n"
      ],
      "metadata": {
        "id": "mWdpBIcNliX8",
        "trusted": true,
        "execution": {
          "iopub.status.busy": "2025-07-07T17:41:13.790369Z",
          "iopub.execute_input": "2025-07-07T17:41:13.790593Z",
          "iopub.status.idle": "2025-07-07T17:41:13.794661Z",
          "shell.execute_reply.started": "2025-07-07T17:41:13.790576Z",
          "shell.execute_reply": "2025-07-07T17:41:13.793944Z"
        }
      },
      "outputs": [],
      "execution_count": 76
    },
    {
      "cell_type": "markdown",
      "source": [
        "## Datasets & Dataloaders"
      ],
      "metadata": {
        "id": "RLffxGKJ8nji"
      }
    },
    {
      "cell_type": "markdown",
      "source": [
        "Since we already defined our tokenization function above, we can directly use it and return it in the form of pytorch's `Dataset`."
      ],
      "metadata": {
        "id": "5j0SkDMW8rY1"
      }
    },
    {
      "cell_type": "code",
      "source": [
        "from torch.utils.data import Dataset, DataLoader\n",
        "\n",
        "class ResumeDataset(Dataset):\n",
        "    def __init__(self, texts, labels):\n",
        "        self.texts = texts\n",
        "        self.labels = labels\n",
        "\n",
        "    def __len__(self):\n",
        "        return len(self.texts)\n",
        "\n",
        "    def __getitem__(self, idx):\n",
        "        # Create example dict in the format your tokenize function expects\n",
        "        example = {\"Resume_Text\": self.texts[idx]}\n",
        "\n",
        "        # Use your existing tokenization function\n",
        "        tokenized = tokenize(example)\n",
        "\n",
        "        return {\n",
        "            'input_ids': torch.tensor(tokenized['input_ids'], dtype=torch.long),\n",
        "            'attention_mask': torch.tensor(tokenized['attention_mask'], dtype=torch.long),\n",
        "            'labels': torch.tensor(self.labels[idx], dtype=torch.long)\n",
        "        }\n"
      ],
      "metadata": {
        "id": "cRNCd7JB8qnv",
        "trusted": true,
        "execution": {
          "iopub.status.busy": "2025-07-07T17:41:13.795384Z",
          "iopub.execute_input": "2025-07-07T17:41:13.795623Z",
          "iopub.status.idle": "2025-07-07T17:41:13.807960Z",
          "shell.execute_reply.started": "2025-07-07T17:41:13.795608Z",
          "shell.execute_reply": "2025-07-07T17:41:13.807323Z"
        }
      },
      "outputs": [],
      "execution_count": 77
    },
    {
      "cell_type": "code",
      "source": [
        "train_dataset = ResumeDataset(X_train, y_train)\n",
        "test_dataset = ResumeDataset(X_test, y_test)"
      ],
      "metadata": {
        "id": "Wz6zvPze9VTK",
        "trusted": true,
        "execution": {
          "iopub.status.busy": "2025-07-07T17:41:13.808859Z",
          "iopub.execute_input": "2025-07-07T17:41:13.809340Z",
          "iopub.status.idle": "2025-07-07T17:41:13.820028Z",
          "shell.execute_reply.started": "2025-07-07T17:41:13.809316Z",
          "shell.execute_reply": "2025-07-07T17:41:13.819505Z"
        }
      },
      "outputs": [],
      "execution_count": 78
    },
    {
      "cell_type": "markdown",
      "source": [
        "Now, let's define our dataloaders."
      ],
      "metadata": {
        "id": "_Kui2MrA9dKb"
      }
    },
    {
      "cell_type": "code",
      "source": [
        "train_dataloader = DataLoader(train_dataset, batch_size=16, shuffle=True)\n",
        "eval_dataloader = DataLoader(test_dataset, batch_size=16)"
      ],
      "metadata": {
        "id": "23kKNiSO9cSR",
        "trusted": true,
        "execution": {
          "iopub.status.busy": "2025-07-07T17:41:13.820766Z",
          "iopub.execute_input": "2025-07-07T17:41:13.821056Z",
          "iopub.status.idle": "2025-07-07T17:41:13.835765Z",
          "shell.execute_reply.started": "2025-07-07T17:41:13.821033Z",
          "shell.execute_reply": "2025-07-07T17:41:13.835023Z"
        }
      },
      "outputs": [],
      "execution_count": 79
    },
    {
      "cell_type": "markdown",
      "source": [
        "## Pre-trained Model Loading"
      ],
      "metadata": {
        "id": "VdJESy3RkWNe"
      }
    },
    {
      "cell_type": "code",
      "source": [
        "from transformers import AutoModelForSequenceClassification\n",
        "\n",
        "# Initialize a BERT model for binary classification\n",
        "model_name = \"bert-base-uncased\"\n",
        "## set num_labels=2 for binary classification\n",
        "model = AutoModelForSequenceClassification.from_pretrained(\n",
        "    model_name,\n",
        "    num_labels=2,  # Single output for binary classification\n",
        "    id2label={0: \"not_hired\", 1: \"hired\"},\n",
        "    label2id={\"not_hired\": 0, \"hired\": 1}\n",
        ")\n",
        "\n",
        "print(model.config)"
      ],
      "metadata": {
        "id": "nOo9IXnyRJaQ",
        "outputId": "175370ab-2a27-4a7a-afe6-3a99d2913120",
        "trusted": true,
        "execution": {
          "iopub.status.busy": "2025-07-07T17:41:13.836499Z",
          "iopub.execute_input": "2025-07-07T17:41:13.836799Z",
          "iopub.status.idle": "2025-07-07T17:41:29.516683Z",
          "shell.execute_reply.started": "2025-07-07T17:41:13.836777Z",
          "shell.execute_reply": "2025-07-07T17:41:29.515962Z"
        },
        "colab": {
          "base_uri": "https://localhost:8080/"
        }
      },
      "outputs": [
        {
          "output_type": "stream",
          "name": "stderr",
          "text": [
            "Some weights of BertForSequenceClassification were not initialized from the model checkpoint at bert-base-uncased and are newly initialized: ['classifier.bias', 'classifier.weight']\n",
            "You should probably TRAIN this model on a down-stream task to be able to use it for predictions and inference.\n"
          ]
        },
        {
          "output_type": "stream",
          "name": "stdout",
          "text": [
            "BertConfig {\n",
            "  \"architectures\": [\n",
            "    \"BertForMaskedLM\"\n",
            "  ],\n",
            "  \"attention_probs_dropout_prob\": 0.1,\n",
            "  \"classifier_dropout\": null,\n",
            "  \"gradient_checkpointing\": false,\n",
            "  \"hidden_act\": \"gelu\",\n",
            "  \"hidden_dropout_prob\": 0.1,\n",
            "  \"hidden_size\": 768,\n",
            "  \"id2label\": {\n",
            "    \"0\": \"not_hired\",\n",
            "    \"1\": \"hired\"\n",
            "  },\n",
            "  \"initializer_range\": 0.02,\n",
            "  \"intermediate_size\": 3072,\n",
            "  \"label2id\": {\n",
            "    \"hired\": 1,\n",
            "    \"not_hired\": 0\n",
            "  },\n",
            "  \"layer_norm_eps\": 1e-12,\n",
            "  \"max_position_embeddings\": 512,\n",
            "  \"model_type\": \"bert\",\n",
            "  \"num_attention_heads\": 12,\n",
            "  \"num_hidden_layers\": 12,\n",
            "  \"pad_token_id\": 0,\n",
            "  \"position_embedding_type\": \"absolute\",\n",
            "  \"torch_dtype\": \"float32\",\n",
            "  \"transformers_version\": \"4.53.0\",\n",
            "  \"type_vocab_size\": 2,\n",
            "  \"use_cache\": true,\n",
            "  \"vocab_size\": 30522\n",
            "}\n",
            "\n"
          ]
        }
      ],
      "execution_count": 80
    },
    {
      "cell_type": "markdown",
      "source": [
        "## Fine-tune the Model\n",
        "for fine-tuning purposes we'll leave the same model."
      ],
      "metadata": {
        "id": "DGxV6D78TLwR"
      }
    },
    {
      "cell_type": "code",
      "source": [
        "print(f\"Trainable parameters: {sum(p.numel() for p in model.parameters() if p.requires_grad)}\")"
      ],
      "metadata": {
        "id": "6XaHzZe7TXgO",
        "outputId": "442851ea-fbfc-4a05-caa2-ef68fbdb00e0",
        "trusted": true,
        "execution": {
          "iopub.status.busy": "2025-07-07T17:41:29.517446Z",
          "iopub.execute_input": "2025-07-07T17:41:29.517920Z",
          "iopub.status.idle": "2025-07-07T17:41:29.523614Z",
          "shell.execute_reply.started": "2025-07-07T17:41:29.517874Z",
          "shell.execute_reply": "2025-07-07T17:41:29.522746Z"
        },
        "colab": {
          "base_uri": "https://localhost:8080/"
        }
      },
      "outputs": [
        {
          "output_type": "stream",
          "name": "stdout",
          "text": [
            "Trainable parameters: 109483778\n"
          ]
        }
      ],
      "execution_count": 81
    },
    {
      "cell_type": "markdown",
      "source": [
        "## Training Regime\n",
        "Now let's define the training regime for our model. We'll use pure pytorch."
      ],
      "metadata": {
        "id": "4s3x9KWPTeJT"
      }
    },
    {
      "cell_type": "code",
      "source": [
        "from torch.optim import AdamW\n",
        "from transformers import get_scheduler\n",
        "from torch.nn.utils import clip_grad_norm_\n",
        "from torch.cuda.amp import autocast, GradScaler\n",
        "from transformers import get_cosine_schedule_with_warmup\n",
        "\n",
        "\n",
        "optimizer = AdamW(model.parameters(), lr=5e-5)\n",
        "num_epochs = 15\n",
        "total_steps = len(train_dataloader) * num_epochs\n",
        "\n",
        "scheduler = get_cosine_schedule_with_warmup(\n",
        "    optimizer,\n",
        "    num_warmup_steps=int(0.1 * total_steps),  # 10% warmup\n",
        "    num_training_steps=total_steps\n",
        ")\n",
        "\n",
        "scaler = GradScaler()\n",
        "loss_fn = torch.nn.CrossEntropyLoss()"
      ],
      "metadata": {
        "id": "Oc5_DiSq7WNE",
        "outputId": "d84a501c-e692-4bc2-8e31-55e36ce0c867",
        "trusted": true,
        "execution": {
          "iopub.status.busy": "2025-07-07T17:41:29.524490Z",
          "iopub.execute_input": "2025-07-07T17:41:29.525264Z",
          "iopub.status.idle": "2025-07-07T17:41:29.566503Z",
          "shell.execute_reply.started": "2025-07-07T17:41:29.525237Z",
          "shell.execute_reply": "2025-07-07T17:41:29.565661Z"
        },
        "colab": {
          "base_uri": "https://localhost:8080/"
        }
      },
      "outputs": [
        {
          "output_type": "stream",
          "name": "stderr",
          "text": [
            "/tmp/ipython-input-82-3507884421.py:18: FutureWarning: `torch.cuda.amp.GradScaler(args...)` is deprecated. Please use `torch.amp.GradScaler('cuda', args...)` instead.\n",
            "  scaler = GradScaler()\n"
          ]
        }
      ],
      "execution_count": 82
    },
    {
      "cell_type": "code",
      "source": [
        "model.train()\n",
        "device = torch.device(\"cuda\" if torch.cuda.is_available() else \"cpu\")\n",
        "model.to(device)\n",
        "\n",
        "for epoch in range(num_epochs):\n",
        "    total_loss = 0\n",
        "    num_batches = 0\n",
        "\n",
        "    for batch in train_dataloader:\n",
        "        batch = {k: v.to(device) for k, v in batch.items()}\n",
        "        optimizer.zero_grad()\n",
        "\n",
        "        with autocast():  # Mixed precision for speed\n",
        "            outputs = model(**batch)\n",
        "            logits = outputs.logits\n",
        "            loss = loss_fn(logits, batch[\"labels\"])\n",
        "\n",
        "        scaler.scale(loss).backward()\n",
        "\n",
        "        # Unscale before clipping\n",
        "        scaler.unscale_(optimizer)\n",
        "        clip_grad_norm_(model.parameters(), max_norm=1.0)\n",
        "\n",
        "        scaler.step(optimizer)\n",
        "        scaler.update()\n",
        "        scheduler.step()\n",
        "\n",
        "        # Accumulate loss for averaging\n",
        "        total_loss += loss.item()\n",
        "        num_batches += 1\n",
        "\n",
        "    # Print average loss, not last batch loss\n",
        "    avg_loss = total_loss / num_batches\n",
        "    print({\n",
        "        \"epoch\": epoch,\n",
        "        \"loss\": avg_loss,  # Average loss across all batches\n",
        "        \"lr\": scheduler.get_last_lr()[0],\n",
        "    })"
      ],
      "metadata": {
        "id": "qt8pvpfq98dR",
        "outputId": "9146d2be-d979-4bca-ad3d-b0c3ebd26ed4",
        "trusted": true,
        "execution": {
          "iopub.status.busy": "2025-07-07T17:41:29.567327Z",
          "iopub.execute_input": "2025-07-07T17:41:29.567875Z"
        },
        "colab": {
          "base_uri": "https://localhost:8080/"
        }
      },
      "outputs": [
        {
          "output_type": "stream",
          "name": "stderr",
          "text": [
            "/tmp/ipython-input-83-4254466922.py:13: FutureWarning: `torch.cuda.amp.autocast(args...)` is deprecated. Please use `torch.amp.autocast('cuda', args...)` instead.\n",
            "  with autocast():  # Mixed precision for speed\n"
          ]
        },
        {
          "output_type": "stream",
          "name": "stdout",
          "text": [
            "{'epoch': 0, 'loss': 0.6465360510349274, 'lr': 3.3333333333333335e-05}\n",
            "{'epoch': 1, 'loss': 0.5274396896362304, 'lr': 4.983095894354858e-05}\n",
            "{'epoch': 2, 'loss': 0.49468634247779847, 'lr': 4.849231551964771e-05}\n",
            "{'epoch': 3, 'loss': 0.48235415130853654, 'lr': 4.588719528532342e-05}\n",
            "{'epoch': 4, 'loss': 0.47920814514160154, 'lr': 4.215604094671835e-05}\n",
            "{'epoch': 5, 'loss': 0.5406532669067383, 'lr': 3.7500000000000003e-05}\n",
            "{'epoch': 6, 'loss': 0.4891694897413254, 'lr': 3.217008081777726e-05}\n",
            "{'epoch': 7, 'loss': 0.478599573969841, 'lr': 2.6453620722761896e-05}\n",
            "{'epoch': 8, 'loss': 0.4739298629760742, 'lr': 2.0658795558326743e-05}\n",
            "{'epoch': 9, 'loss': 0.4405787527561188, 'lr': 1.509800584902108e-05}\n",
            "{'epoch': 10, 'loss': 0.42096778869628904, 'lr': 1.0071035207430352e-05}\n",
            "{'epoch': 11, 'loss': 0.36965493515133857, 'lr': 5.848888922025553e-06}\n",
            "{'epoch': 12, 'loss': 0.34946912139654157, 'lr': 2.659183991914696e-06}\n",
            "{'epoch': 13, 'loss': 0.3179342016577721, 'lr': 6.738782355044049e-07}\n",
            "{'epoch': 14, 'loss': 0.30033565521240235, 'lr': 0.0}\n"
          ]
        }
      ],
      "execution_count": 83
    },
    {
      "cell_type": "markdown",
      "source": [
        "## Training our model"
      ],
      "metadata": {
        "id": "2tYDXyzC97DV"
      }
    },
    {
      "cell_type": "markdown",
      "source": [
        "# Fairness Metrics"
      ],
      "metadata": {
        "id": "wzsfydLazHjJ"
      }
    },
    {
      "cell_type": "markdown",
      "source": [
        "s. The computation of group fairness metrics is best understood as the result of a disaggregated analysis, in which we measure the extent to which a particular metric differs across groups of individuals.\n",
        "Calculating group fairness metrics:\n",
        "*   Demographic parity\n",
        "*   Equal opportunity\n",
        "*   Average odds difference\n",
        "\n",
        "\n",
        "\n",
        "\n"
      ],
      "metadata": {
        "id": "IYY5vT0I1mrB"
      }
    },
    {
      "cell_type": "markdown",
      "source": [
        "## Demographic Parity"
      ],
      "metadata": {
        "id": "joscm17c238q"
      }
    },
    {
      "cell_type": "markdown",
      "source": [
        "Demographic parity requires that the positive prediction rate is the same across all groups, regardless of the true outcome.\n",
        "\n",
        "**What it measures:** Whether your model gives positive predictions at the same rate for different groups"
      ],
      "metadata": {
        "id": "w2IDRltp26rS"
      }
    },
    {
      "cell_type": "code",
      "source": [
        "!pip install fairlearn;"
      ],
      "metadata": {
        "id": "SY-J1y3UAE2Q",
        "trusted": true,
        "colab": {
          "base_uri": "https://localhost:8080/"
        },
        "outputId": "13456ff2-a8f5-4acc-e7d7-3ed89fc137b7"
      },
      "outputs": [
        {
          "output_type": "stream",
          "name": "stdout",
          "text": [
            "Requirement already satisfied: fairlearn in /usr/local/lib/python3.11/dist-packages (0.12.0)\n",
            "Requirement already satisfied: numpy>=1.24.4 in /usr/local/lib/python3.11/dist-packages (from fairlearn) (2.0.2)\n",
            "Requirement already satisfied: pandas>=2.0.3 in /usr/local/lib/python3.11/dist-packages (from fairlearn) (2.2.2)\n",
            "Requirement already satisfied: scikit-learn>=1.2.1 in /usr/local/lib/python3.11/dist-packages (from fairlearn) (1.6.1)\n",
            "Requirement already satisfied: scipy>=1.9.3 in /usr/local/lib/python3.11/dist-packages (from fairlearn) (1.15.3)\n",
            "Requirement already satisfied: python-dateutil>=2.8.2 in /usr/local/lib/python3.11/dist-packages (from pandas>=2.0.3->fairlearn) (2.9.0.post0)\n",
            "Requirement already satisfied: pytz>=2020.1 in /usr/local/lib/python3.11/dist-packages (from pandas>=2.0.3->fairlearn) (2025.2)\n",
            "Requirement already satisfied: tzdata>=2022.7 in /usr/local/lib/python3.11/dist-packages (from pandas>=2.0.3->fairlearn) (2025.2)\n",
            "Requirement already satisfied: joblib>=1.2.0 in /usr/local/lib/python3.11/dist-packages (from scikit-learn>=1.2.1->fairlearn) (1.5.1)\n",
            "Requirement already satisfied: threadpoolctl>=3.1.0 in /usr/local/lib/python3.11/dist-packages (from scikit-learn>=1.2.1->fairlearn) (3.6.0)\n",
            "Requirement already satisfied: six>=1.5 in /usr/local/lib/python3.11/dist-packages (from python-dateutil>=2.8.2->pandas>=2.0.3->fairlearn) (1.17.0)\n"
          ]
        }
      ],
      "execution_count": 84
    },
    {
      "cell_type": "code",
      "source": [
        "from fairlearn.metrics import demographic_parity_difference, demographic_parity_ratio\n",
        "from transformers import pipeline\n",
        "\n",
        "# Create a classification pipeline\n",
        "classifier = pipeline(\"text-classification\", model=model, tokenizer=tokenizer)\n",
        "\n",
        "X_test_texts = X_test.tolist()\n",
        "\n",
        "sensitive_test_data = test_df['Gender']\n",
        "\n",
        "y_test_pred = classifier(X_test_texts)\n",
        "\n",
        "## cleanup the test predictions\n",
        "y_pred = [int(pred['label']=='hired') for pred in y_test_pred]\n",
        "\n",
        "print(\"Demographic Parity difference:\")\n",
        "print(demographic_parity_difference(y_test, y_pred,\n",
        "                                   sensitive_features = sensitive_test_data))\n",
        "\n",
        "print(\"Demographic Parity Ratio\")\n",
        "print(demographic_parity_ratio(y_test, y_pred,\n",
        "                                   sensitive_features = sensitive_test_data))"
      ],
      "metadata": {
        "id": "lx_UN2sx7gX8",
        "trusted": true,
        "colab": {
          "base_uri": "https://localhost:8080/"
        },
        "outputId": "d9267989-3498-4bae-d61e-57f89507ff61"
      },
      "outputs": [
        {
          "output_type": "stream",
          "name": "stderr",
          "text": [
            "Device set to use cuda:0\n"
          ]
        },
        {
          "output_type": "stream",
          "name": "stdout",
          "text": [
            "Demographic Parity difference:\n",
            "0.1060728744939271\n",
            "Demographic Parity Ratio\n",
            "0.6850961538461539\n"
          ]
        }
      ],
      "execution_count": 85
    },
    {
      "cell_type": "markdown",
      "source": [
        "This indicates that our model is not so robust! We should see the model's distribution"
      ],
      "metadata": {
        "id": "o-VGFzC3DSry"
      }
    },
    {
      "cell_type": "code",
      "source": [
        "print(\"Test set gender distribution:\")\n",
        "print(test_df['Gender'].value_counts(normalize=True))\n",
        "\n",
        "print(\"\\nHiring rates by gender:\")\n",
        "print(test_df.groupby('Gender')['HiringDecision'].mean())"
      ],
      "metadata": {
        "trusted": true,
        "colab": {
          "base_uri": "https://localhost:8080/"
        },
        "id": "HMRQVRHJDSrz",
        "outputId": "fd7f8e4f-ae5d-4ae4-a460-5dc504325cde"
      },
      "outputs": [
        {
          "output_type": "stream",
          "name": "stdout",
          "text": [
            "Test set gender distribution:\n",
            "Gender\n",
            "1    0.944602\n",
            "0    0.055398\n",
            "Name: proportion, dtype: float64\n",
            "\n",
            "Hiring rates by gender:\n",
            "Gender\n",
            "0    0.256410\n",
            "1    0.303759\n",
            "Name: HiringDecision, dtype: float64\n"
          ]
        }
      ],
      "execution_count": 86
    },
    {
      "cell_type": "markdown",
      "source": [
        "Let's make the same for the `train_df`"
      ],
      "metadata": {
        "id": "VNKOXJdXDSr0"
      }
    },
    {
      "cell_type": "code",
      "source": [
        "print(\"Train set gender distribution:\")\n",
        "print(train_df['Gender'].value_counts(normalize=True))\n",
        "\n",
        "print(\"\\nHiring rates by gender:\")\n",
        "print(train_df.groupby('Gender')['HiringDecision'].mean())"
      ],
      "metadata": {
        "trusted": true,
        "colab": {
          "base_uri": "https://localhost:8080/"
        },
        "id": "tVGXL7C-DSr0",
        "outputId": "421f82cf-b907-4ee6-99c1-c5c22ed7b2ac"
      },
      "outputs": [
        {
          "output_type": "stream",
          "name": "stdout",
          "text": [
            "Train set gender distribution:\n",
            "Gender\n",
            "0    0.908291\n",
            "1    0.091709\n",
            "Name: proportion, dtype: float64\n",
            "\n",
            "Hiring rates by gender:\n",
            "Gender\n",
            "0    0.313970\n",
            "1    0.356164\n",
            "Name: HiringDecision, dtype: float64\n"
          ]
        }
      ],
      "execution_count": 87
    },
    {
      "cell_type": "markdown",
      "source": [
        "From we can see, despite having around 88.5% males in the test dataframe and only 11.5% females, the hiring decision is pretty similar for both genders. 28.5% and 30.9% respectively. If we wanted more demographic parity, we could've biased the outcomes 'HiringDecision', not just the genders.\n",
        "But let's see how our model does on other metrics."
      ],
      "metadata": {
        "id": "OKbYZm7BDSr0"
      }
    },
    {
      "cell_type": "markdown",
      "source": [
        "## Equal Opportunity"
      ],
      "metadata": {
        "id": "3bbkbTMhDSr1"
      }
    },
    {
      "cell_type": "markdown",
      "source": [
        "In the hiring example, equal opportunity requires that the males who are qualified to be hired are just as likely to be chosen as individuals in females who are qualified to be hired. In `Fairlearn`, equal opportunity is called `true_positive_rate`."
      ],
      "metadata": {
        "id": "KgIacgrBDSr1"
      }
    },
    {
      "cell_type": "code",
      "source": [
        "from fairlearn.metrics import MetricFrame, true_positive_rate\n",
        "\n",
        "print(\"Equal Opportunity\")\n",
        "metric_frame = MetricFrame(\n",
        "    metrics={'tpr': true_positive_rate},\n",
        "    y_true=y_test,\n",
        "    y_pred=y_pred,\n",
        "    sensitive_features=sensitive_test_data\n",
        ")\n",
        "\n",
        "print(\"TPR by group:\")\n",
        "print(metric_frame.by_group)"
      ],
      "metadata": {
        "trusted": true,
        "colab": {
          "base_uri": "https://localhost:8080/"
        },
        "id": "JF_CSHF_DSr2",
        "outputId": "c0b09233-ad7f-4d6c-dcac-1ccb210aad1f"
      },
      "outputs": [
        {
          "output_type": "stream",
          "name": "stdout",
          "text": [
            "Equal Opportunity\n",
            "TPR by group:\n",
            "             tpr\n",
            "Gender          \n",
            "0       0.700000\n",
            "1       0.767327\n"
          ]
        }
      ],
      "execution_count": 88
    },
    {
      "cell_type": "markdown",
      "source": [
        "We have a a nearly 4% difference between both, this is not so good!"
      ],
      "metadata": {
        "id": "nrO0fxlNDSr2"
      }
    },
    {
      "cell_type": "markdown",
      "source": [
        "## Average Odds Difference\n",
        "\n",
        "Average Odds Difference is a fairness metric that combines both True Positive Rate (TPR) and False Positive Rate (FPR) differences between groups. It's essentially the average of the TPR and FPR differences."
      ],
      "metadata": {
        "id": "mwYXsAcQDSr2"
      }
    },
    {
      "cell_type": "code",
      "source": [
        "from fairlearn.metrics import true_positive_rate_difference, false_positive_rate_difference, false_positive_rate\n",
        "\n",
        "## true positive rate difference between both genders\n",
        "TPR_diff = true_positive_rate_difference(y_test, y_pred, sensitive_features=sensitive_test_data)\n",
        "print(\"True Positive Rate Difference between genders\")\n",
        "print(f'{TPR_diff*100:.2f}%')\n",
        "\n",
        "## false positive rate difference between both genders\n",
        "FPR_diff = false_positive_rate_difference(y_test, y_pred, sensitive_features=sensitive_test_data)\n",
        "print(\"False Positive Rate Difference between genders\")\n",
        "print(f'{FPR_diff*100:.2f}%')\n"
      ],
      "metadata": {
        "trusted": true,
        "colab": {
          "base_uri": "https://localhost:8080/"
        },
        "id": "PJEMQPUUDSr3",
        "outputId": "c3e958ce-4430-4ad4-a899-1bc6d31c7715"
      },
      "outputs": [
        {
          "output_type": "stream",
          "name": "stdout",
          "text": [
            "True Positive Rate Difference between genders\n",
            "6.73%\n",
            "False Positive Rate Difference between genders\n",
            "8.01%\n"
          ]
        }
      ],
      "execution_count": 89
    },
    {
      "cell_type": "code",
      "source": [
        "## Average odds difference\n",
        "\n",
        "print('Average Odds difference')\n",
        "AVG_odds = (TPR_diff+ FPR_diff) / 2\n",
        "print(f'{AVG_odds*100:.2f}%')"
      ],
      "metadata": {
        "trusted": true,
        "colab": {
          "base_uri": "https://localhost:8080/"
        },
        "id": "clzRw2LrDSr3",
        "outputId": "1477b72b-a928-443e-b83e-41288d57515f"
      },
      "outputs": [
        {
          "output_type": "stream",
          "name": "stdout",
          "text": [
            "Average Odds difference\n",
            "7.37%\n"
          ]
        }
      ],
      "execution_count": 90
    },
    {
      "cell_type": "markdown",
      "source": [
        "## Visualizations\n",
        "\n",
        "Here we'll have more visualizations to plot the fairness of our model. Let's plot disparities across genders."
      ],
      "metadata": {
        "id": "-5ZKrNWsDSr4"
      }
    },
    {
      "cell_type": "code",
      "source": [
        "from fairlearn.metrics import (\n",
        "    MetricFrame,\n",
        "    count,\n",
        "    false_negative_rate,\n",
        "    false_positive_rate,\n",
        "    selection_rate,\n",
        ")\n",
        "from sklearn.metrics import accuracy_score, precision_score\n",
        "\n",
        "# Analyze metrics using MetricFrame\n",
        "metrics = {\n",
        "    \"accuracy\": accuracy_score,\n",
        "    \"false positive rate\": false_positive_rate,\n",
        "    \"false negative rate\": false_negative_rate,\n",
        "    \"selection rate\": selection_rate,\n",
        "    \"count\": count,\n",
        "}\n",
        "metric_frame = MetricFrame(\n",
        "    metrics=metrics, y_true=y_test, y_pred=y_pred, sensitive_features=sensitive_test_data\n",
        ")\n",
        "metric_frame.by_group.plot.bar(\n",
        "    subplots=True,\n",
        "    layout=[3, 3],\n",
        "    legend=False,\n",
        "    figsize=[16, 12],\n",
        "    title=\"Show all metrics\",\n",
        ")\n",
        "plt.subplots_adjust(\n",
        "    hspace=0.4,  # Height spacing between subplots\n",
        "    wspace=0.3,  # Width spacing between subplots\n",
        "    bottom=0.8  # Bottom margin\n",
        ")\n",
        "\n",
        "plt.tight_layout()\n",
        "plt.show()"
      ],
      "metadata": {
        "trusted": true,
        "colab": {
          "base_uri": "https://localhost:8080/",
          "height": 719
        },
        "id": "rdi3AhCiDSr4",
        "outputId": "969af1f9-63d0-4046-b036-88c78f85e637"
      },
      "outputs": [
        {
          "output_type": "display_data",
          "data": {
            "text/plain": [
              "<Figure size 1600x1200 with 9 Axes>"
            ],
            "image/png": "[encoded data removed]"
          },
          "metadata": {}
        }
      ],
      "execution_count": 91
    },
    {
      "cell_type": "markdown",
      "source": [
        "The false positive rate is so high for females & the false negative is higher for males. This means that women are wrongly being offered jobs, they don't deserve & males are wrongly rejected for jobs. This means that unqualified women get jobs while qualified men don't get jobs. This however is not exactly true, as from the count we'll see a greater disparity between females and males, this means that probabilistically speaking the model may bbe doing the same exact jobs for both genders butr because there are more females, then the model shows to be biased."
      ],
      "metadata": {
        "id": "CVTmT1naDSr5"
      }
    },
    {
      "cell_type": "markdown",
      "source": [
        "# Explainability using SHAP"
      ],
      "metadata": {
        "id": "8rzsgTutDSr6"
      }
    },
    {
      "cell_type": "markdown",
      "source": [
        "## Prediction Function"
      ],
      "metadata": {
        "id": "u429wSdpDSr6"
      }
    },
    {
      "cell_type": "code",
      "source": [
        "classifier = pipeline(\"text-classification\", model=model, tokenizer=tokenizer, return_all_scores=True)\n",
        "\n",
        "def prediction(input_text):\n",
        "\n",
        "    if type(input_text) == str:\n",
        "        texts = [input_text]\n",
        "    elif type(input_text) == list :\n",
        "        texts = input_text\n",
        "    else:\n",
        "        texts = input_text.tolist()\n",
        "    predictions = classifier(texts)\n",
        "    y_pred_probs = []\n",
        "    for pred in predictions:\n",
        "            if len(pred) == 2:  # Binary classification\n",
        "                # Find the probability for the positive class (hired)\n",
        "                hired_prob = next(p['score'] for p in pred if p['label'].lower()=='hired')\n",
        "                not_hired_prob = 1 - hired_prob\n",
        "                y_pred_probs.append([not_hired_prob, hired_prob])\n",
        "    return np.array(y_pred_probs)\n",
        ""
      ],
      "metadata": {
        "trusted": true,
        "colab": {
          "base_uri": "https://localhost:8080/"
        },
        "id": "eM4Algn1DSr6",
        "outputId": "e3bb712f-b7dd-49b6-f726-e8effd70b88f"
      },
      "outputs": [
        {
          "output_type": "stream",
          "name": "stderr",
          "text": [
            "Device set to use cuda:0\n",
            "/usr/local/lib/python3.11/dist-packages/transformers/pipelines/text_classification.py:106: UserWarning: `return_all_scores` is now deprecated,  if want a similar functionality use `top_k=None` instead of `return_all_scores=True` or `top_k=1` instead of `return_all_scores=False`.\n",
            "  warnings.warn(\n"
          ]
        }
      ],
      "execution_count": 92
    },
    {
      "cell_type": "markdown",
      "source": [
        "## SHAP explainer\n"
      ],
      "metadata": {
        "id": "-PaSOF1BDSr7"
      }
    },
    {
      "cell_type": "code",
      "source": [
        "import shap\n",
        "\n",
        "\n",
        "def create_shap_explainer(texts, max_evals=100):\n",
        "    \"\"\"Create SHAP explainer with background data\"\"\"\n",
        "    print(\"Creating SHAP explainer...\")\n",
        "\n",
        "    # Use a subset of background texts for efficiency\n",
        "    if len(texts) > 50:\n",
        "        background_sample = np.random.choice(texts, 50, replace=False)\n",
        "    else:\n",
        "        background_sample = texts\n",
        "\n",
        "    # Create partition explainer\n",
        "    explainer = shap.Explainer(\n",
        "        prediction,\n",
        "        masker=shap.maskers.Text(tokenizer),\n",
        "        max_evals=max_evals\n",
        "    )\n",
        "\n",
        "    print(\"SHAP explainer created successfully!\")\n",
        "    return explainer"
      ],
      "metadata": {
        "trusted": true,
        "id": "d6TrjsBgDSr7"
      },
      "outputs": [],
      "execution_count": 93
    },
    {
      "cell_type": "markdown",
      "source": [
        "## Decipher Explanation"
      ],
      "metadata": {
        "id": "6LgkvkjEDSr8"
      }
    },
    {
      "cell_type": "code",
      "source": [
        "def explain_predictions(explainer, texts_to_explain, class_names=['No-Hire', 'Hire']):\n",
        "    \"\"\"Generate SHAP explanations for given texts\"\"\"\n",
        "    print(f\"Generating explanations for {len(texts_to_explain)} texts...\")\n",
        "\n",
        "    # SHAP values\n",
        "    shap_values = explainer(texts_to_explain)\n",
        "\n",
        "    # results\n",
        "    explanations = []\n",
        "\n",
        "    for i, text in enumerate(texts_to_explain):\n",
        "        # Get prediction\n",
        "        prediction_probs = prediction([text])[0]\n",
        "        predicted_class = np.argmax(prediction_probs)\n",
        "        confidence = prediction_probs[predicted_class]\n",
        "\n",
        "        explanation = {\n",
        "            'text': text,\n",
        "            'predicted_class': class_names[predicted_class],\n",
        "            'confidence': confidence,\n",
        "            'prediction_probs': prediction_probs,\n",
        "            'shap_values': shap_values[i],\n",
        "            'tokens': shap_values[i].data\n",
        "        }\n",
        "\n",
        "        explanations.append(explanation)\n",
        "\n",
        "    return explanations"
      ],
      "metadata": {
        "trusted": true,
        "id": "dHUmLvjGDSr8"
      },
      "outputs": [],
      "execution_count": 94
    },
    {
      "cell_type": "markdown",
      "source": [
        "## Get Data"
      ],
      "metadata": {
        "id": "7GAGx68iDSr9"
      }
    },
    {
      "cell_type": "code",
      "source": [
        "def get_data(X_test, y_test, hires=3, no_hires=2):\n",
        "    \"\"\" Get 5 texts that predicts 3 hires & 2 no-hires\"\"\"\n",
        "\n",
        "    # text to be explained\n",
        "    text_data = []\n",
        "\n",
        "    for index in range(len(X_test)):\n",
        "        print(\"Index\", index)\n",
        "        # hire is 1, no hire is 0\n",
        "        pred_value = np.argmax(prediction(X_test[index]))\n",
        "        ## no hire\n",
        "        if (pred_value == 0 and no_hires>0):\n",
        "            no_hires= no_hires-1\n",
        "            print(\"value:\", pred_value)\n",
        "            text_data.append(X_test[index])\n",
        "\n",
        "        ## hire\n",
        "        elif (pred_value == 1 and hires>0):\n",
        "            hires = hires -1\n",
        "            print(\"value:\", pred_value)\n",
        "            text_data.append(X_test[index])\n",
        "        elif (hires==0 and no_hires==0):\n",
        "            break\n",
        "        else:\n",
        "            continue\n",
        "\n",
        "    return text_data\n"
      ],
      "metadata": {
        "trusted": true,
        "id": "i2A-T_tVDSr-"
      },
      "outputs": [],
      "execution_count": 95
    },
    {
      "cell_type": "markdown",
      "source": [
        "## Shap Explanation"
      ],
      "metadata": {
        "id": "RXC4s4g7DSr-"
      }
    },
    {
      "cell_type": "code",
      "source": [
        "background_texts = X_test.tolist()\n",
        "# Create SHAP explainer\n",
        "explainer = create_shap_explainer(background_texts)\n",
        "\n",
        "# data\n",
        "data = get_data(X_test, y_test)\n",
        "series_data = pd.Series(data)\n",
        "print(\"type of background_texts\", type(series_data))\n",
        "# Generate explanations\n",
        "explanations = explain_predictions(explainer, series_data)"
      ],
      "metadata": {
        "trusted": true,
        "colab": {
          "base_uri": "https://localhost:8080/"
        },
        "id": "KIb3UWSADSr_",
        "outputId": "f5cd92e5-2ca1-4840-d6d0-b8d52d221120"
      },
      "outputs": [
        {
          "output_type": "stream",
          "name": "stdout",
          "text": [
            "Creating SHAP explainer...\n",
            "SHAP explainer created successfully!\n",
            "Index 0\n",
            "value: 1\n",
            "Index 1\n",
            "value: 0\n",
            "Index 2\n",
            "value: 1\n",
            "Index 3\n",
            "value: 1\n",
            "Index 4\n",
            "value: 0\n",
            "Index 5\n",
            "type of background_texts <class 'pandas.core.series.Series'>\n",
            "Generating explanations for 5 texts...\n"
          ]
        },
        {
          "output_type": "stream",
          "name": "stderr",
          "text": [
            "PartitionExplainer explainer: 6it [00:13,  6.74s/it]\n"
          ]
        }
      ],
      "execution_count": 96
    },
    {
      "cell_type": "markdown",
      "source": [
        "## Visualization"
      ],
      "metadata": {
        "id": "aSyCfMbRDSr_"
      }
    },
    {
      "cell_type": "code",
      "source": [
        "def visualize_explanations(explanations, max_display=5):\n",
        "    \"\"\"Create visualizations for SHAP explanations\"\"\"\n",
        "    print(\"Creating visualizations...\")\n",
        "\n",
        "    # Create figure with subplots\n",
        "    fig, axes = plt.subplots(min(len(explanations), max_display), 1,\n",
        "                            figsize=(15, 4*min(len(explanations), max_display)))\n",
        "\n",
        "    if min(len(explanations), max_display) == 1:\n",
        "        axes = [axes]\n",
        "\n",
        "    for i, exp in enumerate(explanations[:max_display]):\n",
        "        # Get SHAP values for the predicted class\n",
        "        predicted_class_idx = 1 if exp['predicted_class'] == 'Hire' else 0\n",
        "        shap_vals = exp['shap_values'].values[:, predicted_class_idx]\n",
        "        tokens = exp['tokens']\n",
        "\n",
        "        # Create horizontal bar plot\n",
        "        # Get top 15 most important tokens\n",
        "        token_importance = list(zip(tokens, shap_vals))\n",
        "        token_importance.sort(key=lambda x: abs(x[1]), reverse=True)\n",
        "        top_tokens = token_importance[:15]\n",
        "\n",
        "        if top_tokens:\n",
        "            tokens_display = [t[0] for t in top_tokens]\n",
        "            importance_values = [t[1] for t in top_tokens]\n",
        "\n",
        "            colors = ['red' if val < 0 else 'green' for val in importance_values]\n",
        "\n",
        "            axes[i].barh(range(len(tokens_display)), importance_values, color=colors, alpha=0.7)\n",
        "            axes[i].set_yticks(range(len(tokens_display)))\n",
        "            axes[i].set_yticklabels(tokens_display)\n",
        "            axes[i].set_xlabel('SHAP Value (Feature Importance)')\n",
        "            axes[i].set_title(f'Prediction: {exp[\"predicted_class\"]} (Confidence: {exp[\"confidence\"]:.3f})')\n",
        "            axes[i].grid(axis='x', alpha=0.3)\n",
        "\n",
        "    plt.tight_layout()\n",
        "    plt.show()\n"
      ],
      "metadata": {
        "trusted": true,
        "id": "C9jucByzDSsA"
      },
      "outputs": [],
      "execution_count": 97
    },
    {
      "cell_type": "code",
      "source": [
        "visualize_explanations(explanations)"
      ],
      "metadata": {
        "trusted": true,
        "colab": {
          "base_uri": "https://localhost:8080/",
          "height": 1000
        },
        "id": "v8dvOGfIDSsA",
        "outputId": "77448d6a-0adc-40f7-a20b-1ff91127e963"
      },
      "outputs": [
        {
          "output_type": "stream",
          "name": "stdout",
          "text": [
            "Creating visualizations...\n"
          ]
        },
        {
          "output_type": "display_data",
          "data": {
            "text/plain": [
              "<Figure size 1500x2000 with 5 Axes>"
            ],
            "image/png": "[encoded data removed]"
          },
          "metadata": {}
        }
      ],
      "execution_count": 98
    },
    {
      "cell_type": "markdown",
      "source": [
        "# Gender-Correlation\n",
        "Attribute feature importance and analyze if gender-correlated terms (like names or pronouns) are influencing decisions."
      ],
      "metadata": {
        "id": "MwPSp8iADSsB"
      }
    },
    {
      "cell_type": "markdown",
      "source": [
        "## Analyzing Bias"
      ],
      "metadata": {
        "id": "RXHuOnOIDSsB"
      }
    },
    {
      "cell_type": "code",
      "source": [
        "from collections import defaultdict\n",
        "\n",
        "def analyze_gender_bias(explanations):\n",
        "    \"\"\"Simplified gender bias analysis for 'male' and 'female' terms only.\"\"\"\n",
        "    print(\"Analyzing gender bias in explanations...\")\n",
        "\n",
        "    bias_results = {\n",
        "        'term_importance': {'male': [], 'female': []},\n",
        "        'biased_predictions': []\n",
        "    }\n",
        "\n",
        "    for exp in explanations:\n",
        "        tokens = exp['tokens']\n",
        "        shap_vals = exp['shap_values'].values\n",
        "\n",
        "        # Get SHAP values for predicted class\n",
        "        class_idx = 1 if exp['predicted_class'] == 'Hire' else 0\n",
        "        importances = shap_vals[:, class_idx]\n",
        "\n",
        "        gender_score = 0\n",
        "        detected_terms = []\n",
        "\n",
        "        for i, token in enumerate(tokens):\n",
        "            word = token.lower().strip()\n",
        "            importance = importances[i]\n",
        "\n",
        "            if word == 'male':\n",
        "                bias_results['term_importance']['male'].append(importance)\n",
        "                detected_terms.append(('male', importance))\n",
        "                gender_score += importance\n",
        "            elif word == 'female':\n",
        "                bias_results['term_importance']['female'].append(importance)\n",
        "                detected_terms.append(('female', importance))\n",
        "                gender_score += importance\n",
        "\n",
        "        if detected_terms:\n",
        "            bias_results['biased_predictions'].append({\n",
        "                'text': exp['text'][:100] + '...' if len(exp['text']) > 100 else exp['text'],\n",
        "                'prediction': exp['predicted_class'],\n",
        "                'confidence': exp['confidence'],\n",
        "                'gender_score': gender_score,\n",
        "                'detected_terms': detected_terms\n",
        "            })\n",
        "\n",
        "    return bias_results\n"
      ],
      "metadata": {
        "trusted": true,
        "id": "i5rB1xiPDSsC"
      },
      "outputs": [],
      "execution_count": 99
    },
    {
      "cell_type": "markdown",
      "source": [
        "## Printing Bias"
      ],
      "metadata": {
        "id": "PcpXUtB9DSsD"
      }
    },
    {
      "cell_type": "code",
      "source": [
        "def print_bias_report(bias_results):\n",
        "    \"\"\"Print simplified gender bias report for 'male' and 'female' terms.\"\"\"\n",
        "    print(\"\\n--- GENDER BIAS REPORT ---\")\n",
        "\n",
        "    # Term-level importance\n",
        "    for term in ['male', 'female']:\n",
        "        scores = bias_results['term_importance'][term]\n",
        "        if scores:\n",
        "            avg_importance = sum(scores) / len(scores)\n",
        "            print(f\"\\nTerm: '{term}'\")\n",
        "            print(f\"  Occurrences: {len(scores)}\")\n",
        "            print(f\"  Average importance: {avg_importance:.4f}\")\n",
        "        else:\n",
        "            print(f\"\\nTerm: '{term}' — not detected.\")\n",
        "\n",
        "    # Biased predictions\n",
        "    if bias_results['biased_predictions']:\n",
        "        print(\"\\n--- BIASED PREDICTIONS ---\")\n",
        "        for i, pred in enumerate(bias_results['biased_predictions'], 1):\n",
        "            print(f\"\\n#{i}:\")\n",
        "            print(f\"  Text: {pred['text']}\")\n",
        "            print(f\"  Prediction: {pred['prediction']} (Confidence: {pred['confidence']:.3f})\")\n",
        "            print(f\"  Gender score: {pred['gender_score']:.4f}\")\n",
        "            for term, importance in pred['detected_terms']:\n",
        "                print(f\"    → {term}: importance={importance:.4f}\")\n",
        "    else:\n",
        "        print(\"\\nNo biased predictions detected.\")\n",
        "\n",
        "    print(\"\\n--------------------------\")\n"
      ],
      "metadata": {
        "trusted": true,
        "id": "Q7U2oTXlDSsD"
      },
      "outputs": [],
      "execution_count": 100
    },
    {
      "cell_type": "code",
      "source": [
        "# Analyze bias\n",
        "bias_results = analyze_gender_bias(explanations)\n",
        "\n",
        "# Print reports\n",
        "print_bias_report(bias_results)"
      ],
      "metadata": {
        "colab": {
          "base_uri": "https://localhost:8080/"
        },
        "id": "d-x0gVHTEkZJ",
        "outputId": "aeb5365a-b97f-46b4-dfe8-f81647026e84"
      },
      "execution_count": 101,
      "outputs": [
        {
          "output_type": "stream",
          "name": "stdout",
          "text": [
            "Analyzing gender bias in explanations...\n",
            "\n",
            "--- GENDER BIAS REPORT ---\n",
            "\n",
            "Term: 'male' — not detected.\n",
            "\n",
            "Term: 'female'\n",
            "  Occurrences: 5\n",
            "  Average importance: 0.0013\n",
            "\n",
            "--- BIASED PREDICTIONS ---\n",
            "\n",
            "#1:\n",
            "  Text: I represent a female applicant of 37.0 years with 2.0 education. My career encompasses 8.0 years of ...\n",
            "  Prediction: Hire (Confidence: 0.887)\n",
            "  Gender score: 0.0044\n",
            "    → female: importance=0.0044\n",
            "\n",
            "#2:\n",
            "  Text: I represent a female applicant of 49.0 years with 3.0 education. My career encompasses 0.0 years of ...\n",
            "  Prediction: No-Hire (Confidence: 0.928)\n",
            "  Gender score: -0.0003\n",
            "    → female: importance=-0.0003\n",
            "\n",
            "#3:\n",
            "  Text: As a female professional aged 21.0, I hold a 1.0 degree and bring 14.0 years of experience from 4.0 ...\n",
            "  Prediction: Hire (Confidence: 0.520)\n",
            "  Gender score: -0.0090\n",
            "    → female: importance=-0.0090\n",
            "\n",
            "#4:\n",
            "  Text: I am a female candidate, 22.0 years old, with a 2.0 degree and 15.0 years of experience across 4.0 c...\n",
            "  Prediction: Hire (Confidence: 0.598)\n",
            "  Gender score: 0.0031\n",
            "    → female: importance=0.0031\n",
            "\n",
            "#5:\n",
            "  Text: As a female professional aged 20.0, I hold a 2.0 degree and bring 1.0 years of experience from 2.0 d...\n",
            "  Prediction: No-Hire (Confidence: 0.697)\n",
            "  Gender score: 0.0081\n",
            "    → female: importance=0.0081\n",
            "\n",
            "--------------------------\n"
          ]
        }
      ]
    },
    {
      "cell_type": "markdown",
      "source": [
        "# Bias Mitigation"
      ],
      "metadata": {
        "id": "xvDKSc4IFrqH"
      }
    },
    {
      "cell_type": "markdown",
      "source": [
        "## Counterfactual Data Augmentation"
      ],
      "metadata": {
        "id": "im3SuymSF3m9"
      }
    },
    {
      "cell_type": "markdown",
      "source": [
        "We apply **Counterfactual Data Augmentation (CDA)** to reduce gender bias in the dataset. This involves generating new examples by flipping gendered terms (e.g., “he” ↔ “she”, “man” ↔ “woman”) to balance the representation.\n",
        "\n",
        "We compare model **accuracy** and **fairness metrics** before and after augmentation.\n"
      ],
      "metadata": {
        "id": "9CFDXs-eF2qQ"
      }
    },
    {
      "cell_type": "code",
      "source": [
        "def generate_counterfactual(text):\n",
        "    swaps = {\n",
        "        ' he ': ' she ', ' she ': ' he ',\n",
        "        ' his ': ' her ', ' her ': ' his ',\n",
        "        ' him ': ' her ', ' her ': ' him ',\n",
        "        ' man ': ' woman ', ' woman ': ' man ',\n",
        "        ' male ': ' female ', ' female ': ' male '\n",
        "    }\n",
        "    text_cf = text\n",
        "    for orig, alt in swaps.items():\n",
        "        text_cf = text_cf.replace(orig, alt)\n",
        "    return text_cf"
      ],
      "metadata": {
        "id": "lWgXJ72cFtmb"
      },
      "execution_count": 102,
      "outputs": []
    },
    {
      "cell_type": "code",
      "source": [
        "cf_df = train_df.copy() ## copying the dataframe\n",
        "data = train_df.copy()\n",
        "\n",
        "cf_df['Resume_Text'] = cf_df['Resume_Text'].apply(generate_counterfactual)\n",
        "\n",
        "# Combine original and counterfactual data\n",
        "augmented_df = pd.concat([data, cf_df], ignore_index=True).sample(frac=1.0, random_state=42)\n",
        "\n",
        "# train dataset X, y\n",
        "X_train2 = augmented_df['Resume_Text']\n",
        "y_train2 = augmented_df['HiringDecision']"
      ],
      "metadata": {
        "id": "bCSnqdE6FxQ8"
      },
      "execution_count": 103,
      "outputs": []
    },
    {
      "cell_type": "markdown",
      "source": [
        "## New Datasets & Dataloaders"
      ],
      "metadata": {
        "id": "CNnsUKdFHJRv"
      }
    },
    {
      "cell_type": "code",
      "source": [
        "train_dataset2 = ResumeDataset(X_train2, y_train2)\n",
        "train_dataloader2 = DataLoader(train_dataset2, batch_size=16, shuffle=True)"
      ],
      "metadata": {
        "id": "aEDFhRrZHNJI"
      },
      "execution_count": 104,
      "outputs": []
    },
    {
      "cell_type": "markdown",
      "source": [
        "## Retrain The model"
      ],
      "metadata": {
        "id": "vU3W4JFjGeQC"
      }
    },
    {
      "cell_type": "code",
      "source": [
        "model2 = AutoModelForSequenceClassification.from_pretrained(\n",
        "    model_name,\n",
        "    num_labels=2,  # Single output for binary classification\n",
        "    id2label={0: \"not_hired\", 1: \"hired\"},\n",
        "    label2id={\"not_hired\": 0, \"hired\": 1}\n",
        ")\n",
        "\n",
        "optimizer = AdamW(model2.parameters(), lr=5e-5)\n",
        "num_epochs = 15\n",
        "total_steps = len(train_dataloader2) * num_epochs\n",
        "\n",
        "scheduler = get_cosine_schedule_with_warmup(\n",
        "    optimizer,\n",
        "    num_warmup_steps=int(0.1 * total_steps),  # 10% warmup\n",
        "    num_training_steps=total_steps\n",
        ")\n",
        "\n",
        "scaler = GradScaler()\n",
        "loss_fn = torch.nn.CrossEntropyLoss()\n",
        "\n",
        "model2.train()\n",
        "device = torch.device(\"cuda\" if torch.cuda.is_available() else \"cpu\")\n",
        "model2.to(device)\n",
        "\n",
        "for epoch in range(num_epochs):\n",
        "    total_loss = 0\n",
        "    num_batches = 0\n",
        "\n",
        "    for batch in train_dataloader2:\n",
        "        batch = {k: v.to(device) for k, v in batch.items()}\n",
        "        optimizer.zero_grad()\n",
        "\n",
        "        with autocast():  # Mixed precision for speed\n",
        "            outputs = model2(**batch)\n",
        "            logits = outputs.logits\n",
        "            loss = loss_fn(logits, batch[\"labels\"])\n",
        "\n",
        "        scaler.scale(loss).backward()\n",
        "\n",
        "        # Unscale before clipping\n",
        "        scaler.unscale_(optimizer)\n",
        "        clip_grad_norm_(model2.parameters(), max_norm=1.0)\n",
        "\n",
        "        scaler.step(optimizer)\n",
        "        scaler.update()\n",
        "        scheduler.step()\n",
        "\n",
        "        # Accumulate loss for averaging\n",
        "        total_loss += loss.item()\n",
        "        num_batches += 1\n",
        "\n",
        "    # Print average loss, not last batch loss\n",
        "    avg_loss = total_loss / num_batches\n",
        "    print({\n",
        "        \"epoch\": epoch,\n",
        "        \"loss\": avg_loss,  # Average loss across all batches\n",
        "        \"lr\": scheduler.get_last_lr()[0],\n",
        "    })"
      ],
      "metadata": {
        "colab": {
          "base_uri": "https://localhost:8080/"
        },
        "id": "B5jeHWorGYDh",
        "outputId": "1d5ed0e0-df50-4ffb-d141-521e54f8e4f4"
      },
      "execution_count": 105,
      "outputs": [
        {
          "output_type": "stream",
          "name": "stderr",
          "text": [
            "Some weights of BertForSequenceClassification were not initialized from the model checkpoint at bert-base-uncased and are newly initialized: ['classifier.bias', 'classifier.weight']\n",
            "You should probably TRAIN this model on a down-stream task to be able to use it for predictions and inference.\n",
            "/tmp/ipython-input-105-1925818925.py:18: FutureWarning: `torch.cuda.amp.GradScaler(args...)` is deprecated. Please use `torch.amp.GradScaler('cuda', args...)` instead.\n",
            "  scaler = GradScaler()\n",
            "/tmp/ipython-input-105-1925818925.py:33: FutureWarning: `torch.cuda.amp.autocast(args...)` is deprecated. Please use `torch.amp.autocast('cuda', args...)` instead.\n",
            "  with autocast():  # Mixed precision for speed\n"
          ]
        },
        {
          "output_type": "stream",
          "name": "stdout",
          "text": [
            "{'epoch': 0, 'loss': 0.5713528060913086, 'lr': 3.3333333333333335e-05}\n",
            "{'epoch': 1, 'loss': 0.5009083557128906, 'lr': 4.983095894354858e-05}\n",
            "{'epoch': 2, 'loss': 0.4819232940673828, 'lr': 4.849231551964771e-05}\n",
            "{'epoch': 3, 'loss': 0.4521571159362793, 'lr': 4.588719528532342e-05}\n",
            "{'epoch': 4, 'loss': 0.42151615142822263, 'lr': 4.215604094671835e-05}\n",
            "{'epoch': 5, 'loss': 0.3281869411468506, 'lr': 3.7500000000000003e-05}\n",
            "{'epoch': 6, 'loss': 0.2647578716278076, 'lr': 3.217008081777726e-05}\n",
            "{'epoch': 7, 'loss': 0.2091495156288147, 'lr': 2.6453620722761896e-05}\n",
            "{'epoch': 8, 'loss': 0.1350637900829315, 'lr': 2.0658795558326743e-05}\n",
            "{'epoch': 9, 'loss': 0.10560140967369079, 'lr': 1.509800584902108e-05}\n",
            "{'epoch': 10, 'loss': 0.06940401583909989, 'lr': 1.0071035207430352e-05}\n",
            "{'epoch': 11, 'loss': 0.052126803398132325, 'lr': 5.848888922025553e-06}\n",
            "{'epoch': 12, 'loss': 0.04841130644083023, 'lr': 2.659183991914696e-06}\n",
            "{'epoch': 13, 'loss': 0.037991870790719987, 'lr': 6.738782355044049e-07}\n",
            "{'epoch': 14, 'loss': 0.03423401340842247, 'lr': 0.0}\n"
          ]
        }
      ]
    },
    {
      "cell_type": "markdown",
      "source": [
        "## Fairness Metrics (on new model)"
      ],
      "metadata": {
        "id": "no2_aujdJxfh"
      }
    },
    {
      "cell_type": "code",
      "source": [
        "classifier2 = pipeline(\"text-classification\", model=model2, tokenizer=tokenizer)\n",
        "\n",
        "X_test_texts = X_test.tolist()\n",
        "\n",
        "sensitive_test_data = test_df['Gender']\n",
        "\n",
        "y_test_pred = classifier2(X_test_texts)"
      ],
      "metadata": {
        "colab": {
          "base_uri": "https://localhost:8080/"
        },
        "id": "mtAOj91BJ0lS",
        "outputId": "897db51a-385b-411e-a246-be287fb401e7"
      },
      "execution_count": 106,
      "outputs": [
        {
          "output_type": "stream",
          "name": "stderr",
          "text": [
            "Device set to use cuda:0\n"
          ]
        }
      ]
    },
    {
      "cell_type": "code",
      "source": [
        "## cleanup the test predictions\n",
        "y_pred = [int(pred['label']=='hired') for pred in y_test_pred]\n",
        "\n",
        "print(\"Demographic Parity difference:\")\n",
        "print(demographic_parity_difference(y_test, y_pred,\n",
        "                                   sensitive_features = sensitive_test_data))\n",
        "\n",
        "print(\"Demographic Parity Ratio\")\n",
        "print(demographic_parity_ratio(y_test, y_pred,\n",
        "                                   sensitive_features = sensitive_test_data))"
      ],
      "metadata": {
        "colab": {
          "base_uri": "https://localhost:8080/"
        },
        "id": "kovbM27vKOqc",
        "outputId": "384c2e89-8843-4f5c-dbc9-551c23ed83bb"
      },
      "execution_count": 107,
      "outputs": [
        {
          "output_type": "stream",
          "name": "stdout",
          "text": [
            "Demographic Parity difference:\n",
            "0.04576826682089841\n",
            "Demographic Parity Ratio\n",
            "0.8603857915784521\n"
          ]
        }
      ]
    },
    {
      "cell_type": "code",
      "source": [
        "print(\"Equal Opportunity\")\n",
        "metric_frame = MetricFrame(\n",
        "    metrics={'tpr': true_positive_rate},\n",
        "    y_true=y_test,\n",
        "    y_pred=y_pred,\n",
        "    sensitive_features=sensitive_test_data\n",
        ")\n",
        "\n",
        "print(\"TPR by group:\")\n",
        "print(metric_frame.by_group)"
      ],
      "metadata": {
        "colab": {
          "base_uri": "https://localhost:8080/"
        },
        "id": "X4dwwUBEKriq",
        "outputId": "8528768c-208a-4e6a-e355-5cd535a34676"
      },
      "execution_count": 108,
      "outputs": [
        {
          "output_type": "stream",
          "name": "stdout",
          "text": [
            "Equal Opportunity\n",
            "TPR by group:\n",
            "             tpr\n",
            "Gender          \n",
            "0       0.800000\n",
            "1       0.787129\n"
          ]
        }
      ]
    },
    {
      "cell_type": "code",
      "source": [
        "## true positive rate difference between both genders\n",
        "TPR_diff = true_positive_rate_difference(y_test, y_pred, sensitive_features=sensitive_test_data)\n",
        "print(\"True Positive Rate Difference between genders\")\n",
        "print(f'{TPR_diff*100:.2f}%')\n",
        "\n",
        "## false positive rate difference between both genders\n",
        "FPR_diff = false_positive_rate_difference(y_test, y_pred, sensitive_features=sensitive_test_data)\n",
        "print(\"False Positive Rate Difference between genders\")\n",
        "print(f'{FPR_diff*100:.2f}%')\n"
      ],
      "metadata": {
        "colab": {
          "base_uri": "https://localhost:8080/"
        },
        "id": "Ti0BvCd5KyMX",
        "outputId": "4526378d-49dd-4121-9158-57abe0ce9874"
      },
      "execution_count": 109,
      "outputs": [
        {
          "output_type": "stream",
          "name": "stdout",
          "text": [
            "True Positive Rate Difference between genders\n",
            "1.29%\n",
            "False Positive Rate Difference between genders\n",
            "2.40%\n"
          ]
        }
      ]
    },
    {
      "cell_type": "code",
      "source": [
        "## Average odds difference\n",
        "\n",
        "print('Average Odds difference')\n",
        "AVG_odds = (TPR_diff+ FPR_diff) / 2\n",
        "print(f'{AVG_odds*100:.2f}%')"
      ],
      "metadata": {
        "colab": {
          "base_uri": "https://localhost:8080/"
        },
        "id": "rhoWjm1NK4E3",
        "outputId": "4b57c8d5-0370-4b26-c035-9cf74f42c4f8"
      },
      "execution_count": 110,
      "outputs": [
        {
          "output_type": "stream",
          "name": "stdout",
          "text": [
            "Average Odds difference\n",
            "1.84%\n"
          ]
        }
      ]
    },
    {
      "cell_type": "code",
      "source": [
        "from fairlearn.metrics import (\n",
        "    MetricFrame,\n",
        "    count,\n",
        "    false_negative_rate,\n",
        "    false_positive_rate,\n",
        "    selection_rate,\n",
        ")\n",
        "from sklearn.metrics import accuracy_score, precision_score\n",
        "\n",
        "# Analyze metrics using MetricFrame\n",
        "metrics = {\n",
        "    \"accuracy\": accuracy_score,\n",
        "    \"false positive rate\": false_positive_rate,\n",
        "    \"false negative rate\": false_negative_rate,\n",
        "    \"selection rate\": selection_rate,\n",
        "    \"count\": count,\n",
        "}\n",
        "metric_frame = MetricFrame(\n",
        "    metrics=metrics, y_true=y_test, y_pred=y_pred, sensitive_features=sensitive_test_data\n",
        ")\n",
        "metric_frame.by_group.plot.bar(\n",
        "    subplots=True,\n",
        "    layout=[3, 3],\n",
        "    legend=False,\n",
        "    figsize=[16, 12],\n",
        "    title=\"Show all metrics\",\n",
        ")\n",
        "plt.subplots_adjust(\n",
        "    hspace=0.4,  # Height spacing between subplots\n",
        "    wspace=0.3,  # Width spacing between subplots\n",
        "    bottom=0.8  # Bottom margin\n",
        ")\n",
        "\n",
        "plt.tight_layout()\n",
        "plt.show()"
      ],
      "metadata": {
        "colab": {
          "base_uri": "https://localhost:8080/",
          "height": 719
        },
        "id": "6WHTOj4cMr7P",
        "outputId": "3ab8a767-d930-4a5f-9ed8-7bdd668f8324"
      },
      "execution_count": 111,
      "outputs": [
        {
          "output_type": "display_data",
          "data": {
            "text/plain": [
              "<Figure size 1600x1200 with 9 Axes>"
            ],
            "image/png": "[encoded data removed]"
          },
          "metadata": {}
        }
      ]
    }
  ]
}